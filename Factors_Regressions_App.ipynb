{
 "cells": [
  {
   "cell_type": "code",
   "metadata": {
    "ExecuteTime": {
     "end_time": "2025-06-17T17:47:13.847346Z",
     "start_time": "2025-06-17T17:47:13.838411Z"
    }
   },
   "source": [
    "import numpy as np\n",
    "import yfinance as yf\n",
    "import pandas as pd\n",
    "import statsmodels.api as sm\n",
    "from statsmodels.stats.diagnostic import het_breuschpagan\n",
    "from statsmodels.graphics.tsaplots import plot_acf\n",
    "import matplotlib.pyplot as plt\n",
    "\n",
    "\n",
    "\n",
    "tickers = {\n",
    "    \"SPC\": \"^GSPC\",  # Cap-weighted index\n",
    "    \"SPE\": \"RSP\"     # Equal-weight ETF\n",
    "}\n",
    "start_date = \"2005-01-01\"\n",
    "end_date = \"2025-05-31\"\n"
   ],
   "outputs": [],
   "execution_count": 38
  },
  {
   "cell_type": "code",
   "metadata": {
    "ExecuteTime": {
     "end_time": "2025-06-17T17:47:13.874805Z",
     "start_time": "2025-06-17T17:47:13.852143Z"
    }
   },
   "source": [
    "### yahoo finance doesn't work:\n",
    "spc = pd.read_csv(\"^GSPC_mon.csv\", index_col=0, parse_dates=True)\n",
    "spe = pd.read_csv(\"RSP_mon.csv\", index_col=0, parse_dates=True)\n",
    "\n",
    "# Combine into a single DataFrame\n",
    "close_df = pd.DataFrame({\n",
    "    \"SPC\": spc[\"Close\"],\n",
    "    \"SPE\": spe[\"Close\"]\n",
    "}).dropna()\n",
    "\n",
    "# Compute returns and innovation portfolio\n",
    "returns_df = close_df.pct_change().dropna()\n",
    "returns_df[\"Innovation Portfolio\"] = returns_df[\"SPC\"] - returns_df[\"SPE\"]\n",
    "returns_df = returns_df.iloc[:-1]"
   ],
   "outputs": [],
   "execution_count": 39
  },
  {
   "cell_type": "code",
   "metadata": {
    "ExecuteTime": {
     "end_time": "2025-06-17T17:47:13.910550Z",
     "start_time": "2025-06-17T17:47:13.899007Z"
    }
   },
   "source": [
    "#upload ff 3 factor data\n",
    "\n",
    "ff_df = pd.read_csv(\"F-F_Research_Data_5_Factors_2x3.csv\", index_col=0, skiprows=3)\n",
    "ff_df = ff_df[ff_df.index.astype(str).str.match(r\"^\\d{6}$\")]\n",
    "ff_df.index = pd.to_datetime(ff_df.index.astype(str), format=\"%Y%m\")\n",
    "ff_df = ff_df.reindex(returns_df.index).dropna()\n",
    "\n",
    "ff_df = ff_df.apply(pd.to_numeric, errors='coerce') / 100\n",
    "\n",
    "merged_df = returns_df.join(ff_df, how='left')\n",
    "\n",
    "\n",
    "excess_rets_df = pd.DataFrame()\n",
    "excess_rets_df[\"SPC\"] = merged_df[\"SPC\"] - merged_df[\"RF\"]\n",
    "excess_rets_df[\"SPE\"] = merged_df[\"SPE\"] - merged_df[\"RF\"]\n",
    "excess_rets_df[\"Innovation Portfolio\"] = merged_df[\"Innovation Portfolio\"] - merged_df[\"RF\"]\n",
    "excess_rets_df[\"Mkt-RF\"] = merged_df[\"Mkt-RF\"]\n",
    "excess_rets_df[\"SMB\"] = merged_df[\"SMB\"]\n",
    "excess_rets_df[\"HML\"] = merged_df[\"HML\"]\n",
    "excess_rets_df[\"RMW\"] = merged_df[\"RMW\"]\n",
    "excess_rets_df[\"CMA\"] = merged_df[\"CMA\"]\n"
   ],
   "outputs": [],
   "execution_count": 40
  },
  {
   "cell_type": "code",
   "metadata": {
    "ExecuteTime": {
     "end_time": "2025-06-17T17:47:13.929830Z",
     "start_time": "2025-06-17T17:47:13.924342Z"
    }
   },
   "source": [
    "#ffm = pd.read_csv(r\"C:\\Users\\Username\\OneDrive\\Desktop\\Invesco_project\\F-F_Momentum_Factor.csv\",skiprows= 13, nrows = 1180)\n",
    "ffm = pd.read_csv(\"F-F_Momentum_Factor.csv\",skiprows= 13, nrows = 1180)\n",
    "ffm.rename(columns={\"Unnamed: 0\": \"Date\"}, inplace=True)\n",
    "\n",
    "ffm[\"Date\"] = pd.to_datetime(ffm[\"Date\"], format=\"%Y%m\")\n",
    "\n",
    "ffm.set_index(\"Date\", inplace=True)\n",
    "\n",
    "ffm = ffm.astype(float) / 100"
   ],
   "outputs": [],
   "execution_count": 41
  },
  {
   "cell_type": "code",
   "metadata": {
    "ExecuteTime": {
     "end_time": "2025-06-17T17:47:13.946034Z",
     "start_time": "2025-06-17T17:47:13.942871Z"
    }
   },
   "source": [
    "ff_df = pd.merge(ff_df, ffm, on=\"Date\", how=\"inner\")"
   ],
   "outputs": [],
   "execution_count": 42
  },
  {
   "cell_type": "code",
   "metadata": {
    "ExecuteTime": {
     "end_time": "2025-06-17T17:47:13.960732Z",
     "start_time": "2025-06-17T17:47:13.958904Z"
    }
   },
   "source": "# ff_df",
   "outputs": [],
   "execution_count": 43
  },
  {
   "cell_type": "code",
   "metadata": {
    "ExecuteTime": {
     "end_time": "2025-06-17T17:47:13.978769Z",
     "start_time": "2025-06-17T17:47:13.976536Z"
    }
   },
   "source": [
    "\n",
    "excess_rets_df[\"Mom\"] = ff_df[\"Mom\"]"
   ],
   "outputs": [],
   "execution_count": 44
  },
  {
   "cell_type": "code",
   "metadata": {
    "ExecuteTime": {
     "end_time": "2025-06-17T17:47:14.009176Z",
     "start_time": "2025-06-17T17:47:14.004352Z"
    }
   },
   "source": [
    "def compute_rolling_betas_and_alpha(\n",
    "    excess_returns_df,\n",
    "    portfolio_col,\n",
    "    window=36,\n",
    "    beta_MKT=False,\n",
    "    beta_SMB=True,\n",
    "    beta_HML=True,\n",
    "    beta_RMW=True,\n",
    "    beta_CMA=True,\n",
    "    beta_Momentum=False\n",
    "):\n",
    "    factor_flags = {\n",
    "        \"Mkt-RF\": beta_MKT,\n",
    "        \"SMB\": beta_SMB,\n",
    "        \"HML\": beta_HML,\n",
    "        \"RMW\": beta_RMW,\n",
    "        \"CMA\": beta_CMA,\n",
    "        \"Mom\": beta_Momentum\n",
    "    }\n",
    "\n",
    "    selected_factors = [factor for factor, include in factor_flags.items() if include]\n",
    "\n",
    "    results = {\n",
    "        \"alpha\": [],\n",
    "        \"r_squared\": [],\n",
    "        \"alpha_tstat\": [],\n",
    "        \"alpha_pval\": [],\n",
    "        \"sortino\": []\n",
    "    }\n",
    "\n",
    "    for factor in selected_factors:\n",
    "        results[f\"beta_{factor}\"] = []\n",
    "\n",
    "    index = []\n",
    "\n",
    "    for i in range(window, len(excess_returns_df)):\n",
    "        window_df = excess_returns_df.iloc[i - window:i]\n",
    "\n",
    "        y = window_df[portfolio_col]\n",
    "        X = window_df[selected_factors]\n",
    "        X = sm.add_constant(X)\n",
    "\n",
    "        model = sm.OLS(y, X).fit()\n",
    "\n",
    "        results[\"alpha\"].append(model.params.get(\"const\", float(\"nan\")))\n",
    "        results[\"r_squared\"].append(model.rsquared)\n",
    "        results[\"alpha_tstat\"].append(model.tvalues.get(\"const\", float(\"nan\")))\n",
    "        results[\"alpha_pval\"].append(model.pvalues.get(\"const\", float(\"nan\")))\n",
    "\n",
    "        downside_std = y[y < 0].std()\n",
    "        sortino = y.mean() / downside_std if downside_std != 0 else float(\"nan\")\n",
    "        results[\"sortino\"].append(sortino)\n",
    "\n",
    "        for factor in selected_factors:\n",
    "            results[f\"beta_{factor}\"].append(model.params.get(factor, float(\"nan\")))\n",
    "\n",
    "        index.append(excess_returns_df.index[i])\n",
    "\n",
    "    return pd.DataFrame(results, index=index)\n"
   ],
   "outputs": [],
   "execution_count": 45
  },
  {
   "cell_type": "code",
   "metadata": {
    "ExecuteTime": {
     "end_time": "2025-06-17T17:47:14.014930Z",
     "start_time": "2025-06-17T17:47:14.012895Z"
    }
   },
   "source": [
    "import ipywidgets as widgets\n",
    "from ipywidgets import interact\n",
    "import matplotlib.pyplot as plt"
   ],
   "outputs": [],
   "execution_count": 46
  },
  {
   "cell_type": "code",
   "metadata": {
    "ExecuteTime": {
     "end_time": "2025-06-17T17:47:14.029360Z",
     "start_time": "2025-06-17T17:47:14.028053Z"
    }
   },
   "source": [],
   "outputs": [],
   "execution_count": null
  },
  {
   "cell_type": "code",
   "metadata": {
    "ExecuteTime": {
     "end_time": "2025-06-17T17:47:14.043863Z",
     "start_time": "2025-06-17T17:47:14.041524Z"
    }
   },
   "source": [
    "# import ipywidgets as widgets\n",
    "# from ipywidgets import interact\n",
    "# import matplotlib.pyplot as plt\n",
    "# from IPython.display import display\n",
    "# from IPython.display import HTML\n",
    "#\n",
    "# def plot_rolling(window=12,\n",
    "#                  factors=[\"Mkt-RF\", \"SMB\", \"HML\", \"RMW\", \"CMA\", \"Mom\"],\n",
    "#                  table_metrics=[\"r_squared\", \"alpha_tstat\", \"alpha_pval\", \"sortino\"]):\n",
    "#\n",
    "#     selected_df = compute_rolling_betas_and_alpha(\n",
    "#         excess_rets_df,\n",
    "#         portfolio_col=\"Innovation Portfolio\",\n",
    "#         window=window,\n",
    "#         beta_MKT=\"Mkt-RF\" in factors,\n",
    "#         beta_SMB=\"SMB\" in factors,\n",
    "#         beta_HML=\"HML\" in factors,\n",
    "#         beta_RMW=\"RMW\" in factors,\n",
    "#         beta_CMA=\"CMA\" in factors,\n",
    "#         beta_Momentum=\"Mom\" in factors\n",
    "#     )\n",
    "#\n",
    "#     # ---------- Plot alpha and betas ----------\n",
    "#     plot_cols = [\"alpha\"] + [f\"beta_{f}\" for f in factors if f\"beta_{f}\" in selected_df.columns]\n",
    "#     selected_df[plot_cols].plot(figsize=(12, 6), title=f\"{window}-Month Rolling Alpha & Betas\")\n",
    "#     plt.grid(True)\n",
    "#     plt.tight_layout()\n",
    "#     plt.show()\n",
    "#\n",
    "#     # ---------- Summary table ----------\n",
    "#     # Compute all available metrics\n",
    "#     all_metrics = {\n",
    "#         \"Mean\": selected_df.mean(),\n",
    "#         \"Std Dev\": selected_df.std(),\n",
    "#         \"r_squared\": selected_df[\"r_squared\"].mean() if \"r_squared\" in selected_df.columns else None,\n",
    "#         \"alpha_tstat\": selected_df[\"alpha_tstat\"].mean() if \"alpha_tstat\" in selected_df.columns else None,\n",
    "#         \"alpha_pval\": selected_df[\"alpha_pval\"].mean() if \"alpha_pval\" in selected_df.columns else None,\n",
    "#         \"sortino\": selected_df[\"sortino\"].mean() if \"sortino\" in selected_df.columns else None\n",
    "#     }\n",
    "#\n",
    "#     # Filter metrics based on user selection\n",
    "#     selected_metrics = {k: v for k, v in all_metrics.items() if k in table_metrics and v is not None}\n",
    "#\n",
    "#     # Build summary DataFrame for selected rows and columns\n",
    "#     row_names = [\"alpha\"] + [f\"beta_{f}\" for f in factors if f\"beta_{f}\" in selected_df.columns]\n",
    "#     summary = pd.DataFrame({metric: selected_df[row_names].mean() if metric == \"Mean\"\n",
    "#                             else selected_df[row_names].std() if metric == \"Std Dev\"\n",
    "#                             else [selected_metrics[metric]] * len(row_names)\n",
    "#                             for metric in selected_metrics})\n",
    "#\n",
    "#     summary.index = row_names\n",
    "#     summary = summary.round(4)\n",
    "#\n",
    "#     # Store globally\n",
    "#     global latest_summary_table\n",
    "#     latest_summary_table = summary\n",
    "#\n",
    "#     display(HTML(\"<h4>Average Results from Rolling Factor Mode</h4>\"))\n",
    "#     display(summary)\n",
    "#\n",
    "#\n",
    "# interact(\n",
    "#     plot_rolling,\n",
    "#     window=widgets.IntSlider(min=6, max=60, step=6, value=12),\n",
    "#     factors=widgets.SelectMultiple(\n",
    "#         options=[\"Mkt-RF\", \"SMB\", \"HML\", \"RMW\", \"CMA\", \"Mom\"],\n",
    "#         value=(\"SMB\", \"HML\", \"RMW\", \"CMA\", \"Mom\"),\n",
    "#         description='Factors',\n",
    "#         style={'description_width': 'initial'}\n",
    "#     ),\n",
    "#     table_metrics=widgets.SelectMultiple(\n",
    "#         options=[\"Mean\", \"Std Dev\", \"r_squared\", \"alpha_tstat\", \"alpha_pval\", \"sortino\"],\n",
    "#         value=(\"Mean\", \"Std Dev\"),\n",
    "#         description='Summary Columns',\n",
    "#         style={'description_width': 'initial'}\n",
    "#     )\n",
    "#\n",
    "# )\n",
    "#\n"
   ],
   "outputs": [],
   "execution_count": 47
  },
  {
   "cell_type": "code",
   "metadata": {
    "ExecuteTime": {
     "end_time": "2025-06-17T17:47:14.080133Z",
     "start_time": "2025-06-17T17:47:14.057353Z"
    }
   },
   "source": [
    "from ipywidgets import (\n",
    "    interactive_output, IntSlider, VBox, HBox, Checkbox, Dropdown, Label, Button\n",
    ")\n",
    "from IPython.display import display, HTML\n",
    "\n",
    "# Define options\n",
    "factor_options = [\"Mkt-RF\", \"SMB\", \"HML\", \"RMW\", \"CMA\", \"Mom\"]\n",
    "metric_options = [\"Mean\", \"Std Dev\", \"r_squared\", \"alpha_tstat\", \"alpha_pval\", \"sortino\"]\n",
    "y_options = [\"SPC\", \"SPE\", \"Innovation Portfolio\"]\n",
    "\n",
    "# Helper functions\n",
    "def create_checkboxes(options, default=[]):\n",
    "    return [Checkbox(value=(opt in default), description=opt, indent=False) for opt in options]\n",
    "\n",
    "def get_selected_options(checkboxes):\n",
    "    return [cb.description for cb in checkboxes if cb.value]\n",
    "\n",
    "# Create widgets\n",
    "factor_checkboxes = create_checkboxes(factor_options, default=[\"SMB\", \"HML\", \"RMW\", \"CMA\", \"Mom\"])\n",
    "metric_checkboxes = create_checkboxes(metric_options, default=[\"Mean\", \"Std Dev\"])\n",
    "y_selector = Dropdown(options=y_options, value=\"Innovation Portfolio\", description=\"Portfolio\")\n",
    "window_slider = IntSlider(min=6, max=60, step=6, value=12, description=\"Window\")\n",
    "run_button = Button(description=\"Run\", button_style='success')\n",
    "\n",
    "# Store output to update\n",
    "output_area = widgets.Output()\n",
    "\n",
    "# Define wrapped function for plotting\n",
    "def wrapped_plot_rolling(button=None):  # optional param for button click\n",
    "    with output_area:\n",
    "        output_area.clear_output()\n",
    "        factors = get_selected_options(factor_checkboxes)\n",
    "        table_metrics = get_selected_options(metric_checkboxes)\n",
    "        y_var = y_selector.value\n",
    "        window = window_slider.value\n",
    "\n",
    "        selected_df = compute_rolling_betas_and_alpha(\n",
    "            excess_rets_df,\n",
    "            portfolio_col=y_var,\n",
    "            window=window,\n",
    "            beta_MKT=\"Mkt-RF\" in factors,\n",
    "            beta_SMB=\"SMB\" in factors,\n",
    "            beta_HML=\"HML\" in factors,\n",
    "            beta_RMW=\"RMW\" in factors,\n",
    "            beta_CMA=\"CMA\" in factors,\n",
    "            beta_Momentum=\"Mom\" in factors\n",
    "        )\n",
    "\n",
    "        # Plot rolling alpha and betas\n",
    "        plot_cols = [\"alpha\"] + [f\"beta_{f}\" for f in factors if f\"beta_{f}\" in selected_df.columns]\n",
    "        selected_df[plot_cols].plot(figsize=(12, 6), title=f\"{window}-Month Rolling Alpha & Betas\")\n",
    "        plt.grid(True)\n",
    "        plt.tight_layout()\n",
    "        plt.show()\n",
    "\n",
    "        # Summary table\n",
    "        all_metrics = {\n",
    "            \"Mean\": selected_df.mean(),\n",
    "            \"Std Dev\": selected_df.std(),\n",
    "            \"r_squared\": selected_df[\"r_squared\"].mean() if \"r_squared\" in selected_df.columns else None,\n",
    "            \"alpha_tstat\": selected_df[\"alpha_tstat\"].mean() if \"alpha_tstat\" in selected_df.columns else None,\n",
    "            \"alpha_pval\": selected_df[\"alpha_pval\"].mean() if \"alpha_pval\" in selected_df.columns else None,\n",
    "            \"sortino\": selected_df[\"sortino\"].mean() if \"sortino\" in selected_df.columns else None\n",
    "        }\n",
    "\n",
    "        selected_metrics = {k: v for k, v in all_metrics.items() if k in table_metrics and v is not None}\n",
    "        row_names = [\"alpha\"] + [f\"beta_{f}\" for f in factors if f\"beta_{f}\" in selected_df.columns]\n",
    "\n",
    "        summary = pd.DataFrame({metric: selected_df[row_names].mean() if metric == \"Mean\"\n",
    "                                else selected_df[row_names].std() if metric == \"Std Dev\"\n",
    "                                else [selected_metrics[metric]] * len(row_names)\n",
    "                                for metric in selected_metrics})\n",
    "\n",
    "        summary.index = row_names\n",
    "        summary = summary.round(4)\n",
    "\n",
    "        global latest_summary_table\n",
    "        latest_summary_table = summary\n",
    "\n",
    "        display(HTML(\"<h4>Average Results from Rolling Factor Model</h4>\"))\n",
    "        display(summary)\n",
    "\n",
    "# Bind the run button to the function\n",
    "run_button.on_click(wrapped_plot_rolling)\n",
    "\n",
    "# Display full UI\n",
    "ui = VBox([\n",
    "    HBox([Label(\"Factors:\"), VBox(factor_checkboxes)]),\n",
    "    HBox([Label(\"Summary Columns:\"), VBox(metric_checkboxes)]),\n",
    "    y_selector,\n",
    "    window_slider,\n",
    "    run_button,\n",
    "    output_area\n",
    "])\n",
    "\n",
    "display(ui)"
   ],
   "outputs": [
    {
     "data": {
      "text/plain": [
       "VBox(children=(HBox(children=(Label(value='Factors:'), VBox(children=(Checkbox(value=False, description='Mkt-R…"
      ],
      "application/vnd.jupyter.widget-view+json": {
       "version_major": 2,
       "version_minor": 0,
       "model_id": "7ec02a45073049ebb519016ae2da5414"
      }
     },
     "metadata": {},
     "output_type": "display_data"
    }
   ],
   "execution_count": 48
  },
  {
   "metadata": {},
   "cell_type": "code",
   "source": "",
   "outputs": [],
   "execution_count": null
  }
 ],
 "metadata": {
  "kernelspec": {
   "display_name": "base",
   "language": "python",
   "name": "python3"
  },
  "language_info": {
   "codemirror_mode": {
    "name": "ipython",
    "version": 3
   },
   "file_extension": ".py",
   "mimetype": "text/x-python",
   "name": "python",
   "nbconvert_exporter": "python",
   "pygments_lexer": "ipython3",
   "version": "3.12.2"
  }
 },
 "nbformat": 4,
 "nbformat_minor": 2
}

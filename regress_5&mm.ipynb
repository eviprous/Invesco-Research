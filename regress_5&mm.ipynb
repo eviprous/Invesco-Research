{
 "cells": [
  {
   "cell_type": "code",
   "execution_count": 29,
   "id": "26b04a2e-8991-4500-b00c-9d189ff37561",
   "metadata": {},
   "outputs": [],
   "source": [
    "import pandas as pd\n",
    "import statsmodels.api as sm\n",
    "import numpy as np\n",
    "import plotly.express as px\n",
    "import matplotlib.pyplot as plt\n",
    "import seaborn as sns"
   ]
  },
  {
   "cell_type": "code",
   "execution_count": 2,
   "id": "46892c3c-f4d0-42d5-aecf-76179e84a63b",
   "metadata": {},
   "outputs": [],
   "source": [
    "spc = pd.read_csv(r\"C:\\Users\\Username\\OneDrive\\Desktop\\Invesco_project\\data\\^GSPC_mon.csv\", nrows=239)\n",
    "spe = pd.read_csv(r\"C:\\Users\\Username\\OneDrive\\Desktop\\Invesco_project\\data\\RSP_mon.csv\", nrows =239)"
   ]
  },
  {
   "cell_type": "code",
   "execution_count": 3,
   "id": "24c63b3b-ac92-4267-a53f-5f19903f6951",
   "metadata": {},
   "outputs": [
    {
     "name": "stdout",
     "output_type": "stream",
     "text": [
      "<class 'pandas.core.frame.DataFrame'>\n",
      "RangeIndex: 239 entries, 0 to 238\n",
      "Data columns (total 6 columns):\n",
      " #   Column  Non-Null Count  Dtype  \n",
      "---  ------  --------------  -----  \n",
      " 0   Date    239 non-null    object \n",
      " 1   Close   239 non-null    float64\n",
      " 2   High    239 non-null    float64\n",
      " 3   Low     239 non-null    float64\n",
      " 4   Open    239 non-null    float64\n",
      " 5   Volume  239 non-null    float64\n",
      "dtypes: float64(5), object(1)\n",
      "memory usage: 11.3+ KB\n"
     ]
    }
   ],
   "source": [
    "spc.info()"
   ]
  },
  {
   "cell_type": "code",
   "execution_count": 4,
   "id": "14a8ad64-fbfc-4e01-8609-0eccd17cf1f3",
   "metadata": {},
   "outputs": [
    {
     "data": {
      "text/html": [
       "<div>\n",
       "<style scoped>\n",
       "    .dataframe tbody tr th:only-of-type {\n",
       "        vertical-align: middle;\n",
       "    }\n",
       "\n",
       "    .dataframe tbody tr th {\n",
       "        vertical-align: top;\n",
       "    }\n",
       "\n",
       "    .dataframe thead th {\n",
       "        text-align: right;\n",
       "    }\n",
       "</style>\n",
       "<table border=\"1\" class=\"dataframe\">\n",
       "  <thead>\n",
       "    <tr style=\"text-align: right;\">\n",
       "      <th></th>\n",
       "      <th>Date</th>\n",
       "      <th>Close</th>\n",
       "      <th>High</th>\n",
       "      <th>Low</th>\n",
       "      <th>Open</th>\n",
       "      <th>Volume</th>\n",
       "    </tr>\n",
       "  </thead>\n",
       "  <tbody>\n",
       "    <tr>\n",
       "      <th>0</th>\n",
       "      <td>6/1/2005</td>\n",
       "      <td>1191.329956</td>\n",
       "      <td>1219.589966</td>\n",
       "      <td>1188.300049</td>\n",
       "      <td>1191.500000</td>\n",
       "      <td>4.033404e+10</td>\n",
       "    </tr>\n",
       "    <tr>\n",
       "      <th>1</th>\n",
       "      <td>7/1/2005</td>\n",
       "      <td>1234.180054</td>\n",
       "      <td>1245.150024</td>\n",
       "      <td>1183.550049</td>\n",
       "      <td>1191.329956</td>\n",
       "      <td>3.746467e+10</td>\n",
       "    </tr>\n",
       "    <tr>\n",
       "      <th>2</th>\n",
       "      <td>8/1/2005</td>\n",
       "      <td>1220.329956</td>\n",
       "      <td>1245.859985</td>\n",
       "      <td>1201.069946</td>\n",
       "      <td>1234.180054</td>\n",
       "      <td>4.203009e+10</td>\n",
       "    </tr>\n",
       "    <tr>\n",
       "      <th>3</th>\n",
       "      <td>9/1/2005</td>\n",
       "      <td>1228.810059</td>\n",
       "      <td>1243.130005</td>\n",
       "      <td>1205.349976</td>\n",
       "      <td>1220.329956</td>\n",
       "      <td>4.477751e+10</td>\n",
       "    </tr>\n",
       "    <tr>\n",
       "      <th>4</th>\n",
       "      <td>10/1/2005</td>\n",
       "      <td>1207.010010</td>\n",
       "      <td>1233.339966</td>\n",
       "      <td>1168.199951</td>\n",
       "      <td>1228.810059</td>\n",
       "      <td>4.979379e+10</td>\n",
       "    </tr>\n",
       "    <tr>\n",
       "      <th>...</th>\n",
       "      <td>...</td>\n",
       "      <td>...</td>\n",
       "      <td>...</td>\n",
       "      <td>...</td>\n",
       "      <td>...</td>\n",
       "      <td>...</td>\n",
       "    </tr>\n",
       "    <tr>\n",
       "      <th>234</th>\n",
       "      <td>12/1/2024</td>\n",
       "      <td>5881.629883</td>\n",
       "      <td>6099.970215</td>\n",
       "      <td>5832.299805</td>\n",
       "      <td>6040.109863</td>\n",
       "      <td>8.606490e+10</td>\n",
       "    </tr>\n",
       "    <tr>\n",
       "      <th>235</th>\n",
       "      <td>1/1/2025</td>\n",
       "      <td>6040.529785</td>\n",
       "      <td>6128.180176</td>\n",
       "      <td>5773.310059</td>\n",
       "      <td>5903.259766</td>\n",
       "      <td>8.863938e+10</td>\n",
       "    </tr>\n",
       "    <tr>\n",
       "      <th>236</th>\n",
       "      <td>2/1/2025</td>\n",
       "      <td>5954.500000</td>\n",
       "      <td>6147.430176</td>\n",
       "      <td>5837.660156</td>\n",
       "      <td>5969.649902</td>\n",
       "      <td>9.231700e+10</td>\n",
       "    </tr>\n",
       "    <tr>\n",
       "      <th>237</th>\n",
       "      <td>3/1/2025</td>\n",
       "      <td>5611.850098</td>\n",
       "      <td>5986.089844</td>\n",
       "      <td>5488.729980</td>\n",
       "      <td>5968.330078</td>\n",
       "      <td>1.113870e+11</td>\n",
       "    </tr>\n",
       "    <tr>\n",
       "      <th>238</th>\n",
       "      <td>4/1/2025</td>\n",
       "      <td>5569.060059</td>\n",
       "      <td>5695.310059</td>\n",
       "      <td>4835.040039</td>\n",
       "      <td>5597.529785</td>\n",
       "      <td>1.189360e+11</td>\n",
       "    </tr>\n",
       "  </tbody>\n",
       "</table>\n",
       "<p>239 rows × 6 columns</p>\n",
       "</div>"
      ],
      "text/plain": [
       "          Date        Close         High          Low         Open  \\\n",
       "0     6/1/2005  1191.329956  1219.589966  1188.300049  1191.500000   \n",
       "1     7/1/2005  1234.180054  1245.150024  1183.550049  1191.329956   \n",
       "2     8/1/2005  1220.329956  1245.859985  1201.069946  1234.180054   \n",
       "3     9/1/2005  1228.810059  1243.130005  1205.349976  1220.329956   \n",
       "4    10/1/2005  1207.010010  1233.339966  1168.199951  1228.810059   \n",
       "..         ...          ...          ...          ...          ...   \n",
       "234  12/1/2024  5881.629883  6099.970215  5832.299805  6040.109863   \n",
       "235   1/1/2025  6040.529785  6128.180176  5773.310059  5903.259766   \n",
       "236   2/1/2025  5954.500000  6147.430176  5837.660156  5969.649902   \n",
       "237   3/1/2025  5611.850098  5986.089844  5488.729980  5968.330078   \n",
       "238   4/1/2025  5569.060059  5695.310059  4835.040039  5597.529785   \n",
       "\n",
       "           Volume  \n",
       "0    4.033404e+10  \n",
       "1    3.746467e+10  \n",
       "2    4.203009e+10  \n",
       "3    4.477751e+10  \n",
       "4    4.979379e+10  \n",
       "..            ...  \n",
       "234  8.606490e+10  \n",
       "235  8.863938e+10  \n",
       "236  9.231700e+10  \n",
       "237  1.113870e+11  \n",
       "238  1.189360e+11  \n",
       "\n",
       "[239 rows x 6 columns]"
      ]
     },
     "execution_count": 4,
     "metadata": {},
     "output_type": "execute_result"
    }
   ],
   "source": [
    "spc"
   ]
  },
  {
   "cell_type": "code",
   "execution_count": 5,
   "id": "7d37615b-c865-4394-bb42-1ba9c7d18a7e",
   "metadata": {},
   "outputs": [],
   "source": [
    "spc[\"Date\"] = pd.to_datetime(spc[\"Date\"])"
   ]
  },
  {
   "cell_type": "code",
   "execution_count": 6,
   "id": "ff32fd47-052b-4e4c-8f9f-cf23ffa90cae",
   "metadata": {},
   "outputs": [
    {
     "name": "stdout",
     "output_type": "stream",
     "text": [
      "<class 'pandas.core.frame.DataFrame'>\n",
      "RangeIndex: 239 entries, 0 to 238\n",
      "Data columns (total 6 columns):\n",
      " #   Column  Non-Null Count  Dtype  \n",
      "---  ------  --------------  -----  \n",
      " 0   Date    239 non-null    object \n",
      " 1   Close   239 non-null    float64\n",
      " 2   High    239 non-null    float64\n",
      " 3   Low     239 non-null    float64\n",
      " 4   Open    239 non-null    float64\n",
      " 5   Volume  239 non-null    int64  \n",
      "dtypes: float64(4), int64(1), object(1)\n",
      "memory usage: 11.3+ KB\n"
     ]
    }
   ],
   "source": [
    "spe.info()"
   ]
  },
  {
   "cell_type": "code",
   "execution_count": 7,
   "id": "a1c86ff1-2ecf-4e65-887a-ffafecd43b05",
   "metadata": {},
   "outputs": [
    {
     "data": {
      "text/html": [
       "<div>\n",
       "<style scoped>\n",
       "    .dataframe tbody tr th:only-of-type {\n",
       "        vertical-align: middle;\n",
       "    }\n",
       "\n",
       "    .dataframe tbody tr th {\n",
       "        vertical-align: top;\n",
       "    }\n",
       "\n",
       "    .dataframe thead th {\n",
       "        text-align: right;\n",
       "    }\n",
       "</style>\n",
       "<table border=\"1\" class=\"dataframe\">\n",
       "  <thead>\n",
       "    <tr style=\"text-align: right;\">\n",
       "      <th></th>\n",
       "      <th>Date</th>\n",
       "      <th>Close</th>\n",
       "      <th>High</th>\n",
       "      <th>Low</th>\n",
       "      <th>Open</th>\n",
       "      <th>Volume</th>\n",
       "    </tr>\n",
       "  </thead>\n",
       "  <tbody>\n",
       "    <tr>\n",
       "      <th>0</th>\n",
       "      <td>6/1/2005</td>\n",
       "      <td>28.401981</td>\n",
       "      <td>28.941376</td>\n",
       "      <td>28.063038</td>\n",
       "      <td>28.064859</td>\n",
       "      <td>7683600</td>\n",
       "    </tr>\n",
       "    <tr>\n",
       "      <th>1</th>\n",
       "      <td>7/1/2005</td>\n",
       "      <td>29.924267</td>\n",
       "      <td>30.147116</td>\n",
       "      <td>28.344208</td>\n",
       "      <td>28.568886</td>\n",
       "      <td>4635200</td>\n",
       "    </tr>\n",
       "    <tr>\n",
       "      <th>2</th>\n",
       "      <td>8/1/2005</td>\n",
       "      <td>29.663055</td>\n",
       "      <td>30.147118</td>\n",
       "      <td>29.043819</td>\n",
       "      <td>29.993680</td>\n",
       "      <td>7580800</td>\n",
       "    </tr>\n",
       "    <tr>\n",
       "      <th>3</th>\n",
       "      <td>9/1/2005</td>\n",
       "      <td>29.732468</td>\n",
       "      <td>30.161730</td>\n",
       "      <td>28.897685</td>\n",
       "      <td>29.610082</td>\n",
       "      <td>6633200</td>\n",
       "    </tr>\n",
       "    <tr>\n",
       "      <th>4</th>\n",
       "      <td>10/1/2005</td>\n",
       "      <td>29.012419</td>\n",
       "      <td>29.942809</td>\n",
       "      <td>27.977633</td>\n",
       "      <td>29.816437</td>\n",
       "      <td>13579600</td>\n",
       "    </tr>\n",
       "    <tr>\n",
       "      <th>...</th>\n",
       "      <td>...</td>\n",
       "      <td>...</td>\n",
       "      <td>...</td>\n",
       "      <td>...</td>\n",
       "      <td>...</td>\n",
       "      <td>...</td>\n",
       "    </tr>\n",
       "    <tr>\n",
       "      <th>234</th>\n",
       "      <td>12/1/2024</td>\n",
       "      <td>173.780304</td>\n",
       "      <td>186.315732</td>\n",
       "      <td>172.134049</td>\n",
       "      <td>186.147140</td>\n",
       "      <td>136653900</td>\n",
       "    </tr>\n",
       "    <tr>\n",
       "      <th>235</th>\n",
       "      <td>1/1/2025</td>\n",
       "      <td>180.373642</td>\n",
       "      <td>182.354120</td>\n",
       "      <td>171.555994</td>\n",
       "      <td>175.477162</td>\n",
       "      <td>165748300</td>\n",
       "    </tr>\n",
       "    <tr>\n",
       "      <th>236</th>\n",
       "      <td>2/1/2025</td>\n",
       "      <td>179.318695</td>\n",
       "      <td>182.145131</td>\n",
       "      <td>176.661460</td>\n",
       "      <td>178.064724</td>\n",
       "      <td>147981100</td>\n",
       "    </tr>\n",
       "    <tr>\n",
       "      <th>237</th>\n",
       "      <td>3/1/2025</td>\n",
       "      <td>172.401916</td>\n",
       "      <td>180.532860</td>\n",
       "      <td>168.032902</td>\n",
       "      <td>180.015357</td>\n",
       "      <td>190015000</td>\n",
       "    </tr>\n",
       "    <tr>\n",
       "      <th>238</th>\n",
       "      <td>4/1/2025</td>\n",
       "      <td>169.139999</td>\n",
       "      <td>175.389999</td>\n",
       "      <td>150.350006</td>\n",
       "      <td>173.000000</td>\n",
       "      <td>279947700</td>\n",
       "    </tr>\n",
       "  </tbody>\n",
       "</table>\n",
       "<p>239 rows × 6 columns</p>\n",
       "</div>"
      ],
      "text/plain": [
       "          Date       Close        High         Low        Open     Volume\n",
       "0     6/1/2005   28.401981   28.941376   28.063038   28.064859    7683600\n",
       "1     7/1/2005   29.924267   30.147116   28.344208   28.568886    4635200\n",
       "2     8/1/2005   29.663055   30.147118   29.043819   29.993680    7580800\n",
       "3     9/1/2005   29.732468   30.161730   28.897685   29.610082    6633200\n",
       "4    10/1/2005   29.012419   29.942809   27.977633   29.816437   13579600\n",
       "..         ...         ...         ...         ...         ...        ...\n",
       "234  12/1/2024  173.780304  186.315732  172.134049  186.147140  136653900\n",
       "235   1/1/2025  180.373642  182.354120  171.555994  175.477162  165748300\n",
       "236   2/1/2025  179.318695  182.145131  176.661460  178.064724  147981100\n",
       "237   3/1/2025  172.401916  180.532860  168.032902  180.015357  190015000\n",
       "238   4/1/2025  169.139999  175.389999  150.350006  173.000000  279947700\n",
       "\n",
       "[239 rows x 6 columns]"
      ]
     },
     "execution_count": 7,
     "metadata": {},
     "output_type": "execute_result"
    }
   ],
   "source": [
    "spe"
   ]
  },
  {
   "cell_type": "code",
   "execution_count": 8,
   "id": "850939d9-59e2-4c9e-bdac-f17749a0a3a9",
   "metadata": {},
   "outputs": [],
   "source": [
    "spe[\"Date\"] = pd.to_datetime(spe[\"Date\"])"
   ]
  },
  {
   "cell_type": "code",
   "execution_count": 9,
   "id": "c9055722-de4b-44f5-8006-e531a01aac9e",
   "metadata": {},
   "outputs": [],
   "source": [
    "ff5 = pd.read_csv(r\"C:\\Users\\Username\\OneDrive\\Desktop\\Invesco_project\\F-F_Research_Data_5_Factors_2x3.csv\", skiprows =3, nrows =742)"
   ]
  },
  {
   "cell_type": "code",
   "execution_count": 10,
   "id": "20ff5a8b-dc5d-4e4e-83c9-530fa12f735d",
   "metadata": {},
   "outputs": [
    {
     "data": {
      "text/html": [
       "<div>\n",
       "<style scoped>\n",
       "    .dataframe tbody tr th:only-of-type {\n",
       "        vertical-align: middle;\n",
       "    }\n",
       "\n",
       "    .dataframe tbody tr th {\n",
       "        vertical-align: top;\n",
       "    }\n",
       "\n",
       "    .dataframe thead th {\n",
       "        text-align: right;\n",
       "    }\n",
       "</style>\n",
       "<table border=\"1\" class=\"dataframe\">\n",
       "  <thead>\n",
       "    <tr style=\"text-align: right;\">\n",
       "      <th></th>\n",
       "      <th>Unnamed: 0</th>\n",
       "      <th>Mkt-RF</th>\n",
       "      <th>SMB</th>\n",
       "      <th>HML</th>\n",
       "      <th>RMW</th>\n",
       "      <th>CMA</th>\n",
       "      <th>RF</th>\n",
       "    </tr>\n",
       "  </thead>\n",
       "  <tbody>\n",
       "    <tr>\n",
       "      <th>0</th>\n",
       "      <td>196307</td>\n",
       "      <td>-0.39</td>\n",
       "      <td>-0.48</td>\n",
       "      <td>-0.81</td>\n",
       "      <td>0.64</td>\n",
       "      <td>-1.15</td>\n",
       "      <td>0.27</td>\n",
       "    </tr>\n",
       "    <tr>\n",
       "      <th>1</th>\n",
       "      <td>196308</td>\n",
       "      <td>5.08</td>\n",
       "      <td>-0.80</td>\n",
       "      <td>1.70</td>\n",
       "      <td>0.40</td>\n",
       "      <td>-0.38</td>\n",
       "      <td>0.25</td>\n",
       "    </tr>\n",
       "    <tr>\n",
       "      <th>2</th>\n",
       "      <td>196309</td>\n",
       "      <td>-1.57</td>\n",
       "      <td>-0.43</td>\n",
       "      <td>0.00</td>\n",
       "      <td>-0.78</td>\n",
       "      <td>0.15</td>\n",
       "      <td>0.27</td>\n",
       "    </tr>\n",
       "    <tr>\n",
       "      <th>3</th>\n",
       "      <td>196310</td>\n",
       "      <td>2.54</td>\n",
       "      <td>-1.34</td>\n",
       "      <td>-0.04</td>\n",
       "      <td>2.79</td>\n",
       "      <td>-2.25</td>\n",
       "      <td>0.29</td>\n",
       "    </tr>\n",
       "    <tr>\n",
       "      <th>4</th>\n",
       "      <td>196311</td>\n",
       "      <td>-0.86</td>\n",
       "      <td>-0.85</td>\n",
       "      <td>1.73</td>\n",
       "      <td>-0.43</td>\n",
       "      <td>2.27</td>\n",
       "      <td>0.27</td>\n",
       "    </tr>\n",
       "    <tr>\n",
       "      <th>...</th>\n",
       "      <td>...</td>\n",
       "      <td>...</td>\n",
       "      <td>...</td>\n",
       "      <td>...</td>\n",
       "      <td>...</td>\n",
       "      <td>...</td>\n",
       "      <td>...</td>\n",
       "    </tr>\n",
       "    <tr>\n",
       "      <th>737</th>\n",
       "      <td>202412</td>\n",
       "      <td>-3.15</td>\n",
       "      <td>-3.84</td>\n",
       "      <td>-3.00</td>\n",
       "      <td>1.91</td>\n",
       "      <td>-1.21</td>\n",
       "      <td>0.37</td>\n",
       "    </tr>\n",
       "    <tr>\n",
       "      <th>738</th>\n",
       "      <td>202501</td>\n",
       "      <td>2.80</td>\n",
       "      <td>-1.22</td>\n",
       "      <td>1.62</td>\n",
       "      <td>-2.33</td>\n",
       "      <td>-3.24</td>\n",
       "      <td>0.37</td>\n",
       "    </tr>\n",
       "    <tr>\n",
       "      <th>739</th>\n",
       "      <td>202502</td>\n",
       "      <td>-2.43</td>\n",
       "      <td>-4.93</td>\n",
       "      <td>4.91</td>\n",
       "      <td>1.09</td>\n",
       "      <td>3.06</td>\n",
       "      <td>0.33</td>\n",
       "    </tr>\n",
       "    <tr>\n",
       "      <th>740</th>\n",
       "      <td>202503</td>\n",
       "      <td>-6.39</td>\n",
       "      <td>-1.49</td>\n",
       "      <td>2.90</td>\n",
       "      <td>2.11</td>\n",
       "      <td>-0.47</td>\n",
       "      <td>0.34</td>\n",
       "    </tr>\n",
       "    <tr>\n",
       "      <th>741</th>\n",
       "      <td>202504</td>\n",
       "      <td>-0.85</td>\n",
       "      <td>-1.85</td>\n",
       "      <td>-3.41</td>\n",
       "      <td>-2.84</td>\n",
       "      <td>-2.67</td>\n",
       "      <td>0.35</td>\n",
       "    </tr>\n",
       "  </tbody>\n",
       "</table>\n",
       "<p>742 rows × 7 columns</p>\n",
       "</div>"
      ],
      "text/plain": [
       "     Unnamed: 0  Mkt-RF   SMB   HML   RMW   CMA    RF\n",
       "0        196307   -0.39 -0.48 -0.81  0.64 -1.15  0.27\n",
       "1        196308    5.08 -0.80  1.70  0.40 -0.38  0.25\n",
       "2        196309   -1.57 -0.43  0.00 -0.78  0.15  0.27\n",
       "3        196310    2.54 -1.34 -0.04  2.79 -2.25  0.29\n",
       "4        196311   -0.86 -0.85  1.73 -0.43  2.27  0.27\n",
       "..          ...     ...   ...   ...   ...   ...   ...\n",
       "737      202412   -3.15 -3.84 -3.00  1.91 -1.21  0.37\n",
       "738      202501    2.80 -1.22  1.62 -2.33 -3.24  0.37\n",
       "739      202502   -2.43 -4.93  4.91  1.09  3.06  0.33\n",
       "740      202503   -6.39 -1.49  2.90  2.11 -0.47  0.34\n",
       "741      202504   -0.85 -1.85 -3.41 -2.84 -2.67  0.35\n",
       "\n",
       "[742 rows x 7 columns]"
      ]
     },
     "execution_count": 10,
     "metadata": {},
     "output_type": "execute_result"
    }
   ],
   "source": [
    "ff5"
   ]
  },
  {
   "cell_type": "code",
   "execution_count": 11,
   "id": "483cfdaf-cffa-4253-b548-f08ef57afdf6",
   "metadata": {},
   "outputs": [
    {
     "data": {
      "text/html": [
       "<div>\n",
       "<style scoped>\n",
       "    .dataframe tbody tr th:only-of-type {\n",
       "        vertical-align: middle;\n",
       "    }\n",
       "\n",
       "    .dataframe tbody tr th {\n",
       "        vertical-align: top;\n",
       "    }\n",
       "\n",
       "    .dataframe thead th {\n",
       "        text-align: right;\n",
       "    }\n",
       "</style>\n",
       "<table border=\"1\" class=\"dataframe\">\n",
       "  <thead>\n",
       "    <tr style=\"text-align: right;\">\n",
       "      <th></th>\n",
       "      <th>Mkt-RF</th>\n",
       "      <th>SMB</th>\n",
       "      <th>HML</th>\n",
       "      <th>RMW</th>\n",
       "      <th>CMA</th>\n",
       "      <th>RF</th>\n",
       "    </tr>\n",
       "    <tr>\n",
       "      <th>Date</th>\n",
       "      <th></th>\n",
       "      <th></th>\n",
       "      <th></th>\n",
       "      <th></th>\n",
       "      <th></th>\n",
       "      <th></th>\n",
       "    </tr>\n",
       "  </thead>\n",
       "  <tbody>\n",
       "    <tr>\n",
       "      <th>1963-07-01</th>\n",
       "      <td>-0.0039</td>\n",
       "      <td>-0.0048</td>\n",
       "      <td>-0.0081</td>\n",
       "      <td>0.0064</td>\n",
       "      <td>-0.0115</td>\n",
       "      <td>0.0027</td>\n",
       "    </tr>\n",
       "    <tr>\n",
       "      <th>1963-08-01</th>\n",
       "      <td>0.0508</td>\n",
       "      <td>-0.0080</td>\n",
       "      <td>0.0170</td>\n",
       "      <td>0.0040</td>\n",
       "      <td>-0.0038</td>\n",
       "      <td>0.0025</td>\n",
       "    </tr>\n",
       "    <tr>\n",
       "      <th>1963-09-01</th>\n",
       "      <td>-0.0157</td>\n",
       "      <td>-0.0043</td>\n",
       "      <td>0.0000</td>\n",
       "      <td>-0.0078</td>\n",
       "      <td>0.0015</td>\n",
       "      <td>0.0027</td>\n",
       "    </tr>\n",
       "    <tr>\n",
       "      <th>1963-10-01</th>\n",
       "      <td>0.0254</td>\n",
       "      <td>-0.0134</td>\n",
       "      <td>-0.0004</td>\n",
       "      <td>0.0279</td>\n",
       "      <td>-0.0225</td>\n",
       "      <td>0.0029</td>\n",
       "    </tr>\n",
       "    <tr>\n",
       "      <th>1963-11-01</th>\n",
       "      <td>-0.0086</td>\n",
       "      <td>-0.0085</td>\n",
       "      <td>0.0173</td>\n",
       "      <td>-0.0043</td>\n",
       "      <td>0.0227</td>\n",
       "      <td>0.0027</td>\n",
       "    </tr>\n",
       "    <tr>\n",
       "      <th>...</th>\n",
       "      <td>...</td>\n",
       "      <td>...</td>\n",
       "      <td>...</td>\n",
       "      <td>...</td>\n",
       "      <td>...</td>\n",
       "      <td>...</td>\n",
       "    </tr>\n",
       "    <tr>\n",
       "      <th>2024-12-01</th>\n",
       "      <td>-0.0315</td>\n",
       "      <td>-0.0384</td>\n",
       "      <td>-0.0300</td>\n",
       "      <td>0.0191</td>\n",
       "      <td>-0.0121</td>\n",
       "      <td>0.0037</td>\n",
       "    </tr>\n",
       "    <tr>\n",
       "      <th>2025-01-01</th>\n",
       "      <td>0.0280</td>\n",
       "      <td>-0.0122</td>\n",
       "      <td>0.0162</td>\n",
       "      <td>-0.0233</td>\n",
       "      <td>-0.0324</td>\n",
       "      <td>0.0037</td>\n",
       "    </tr>\n",
       "    <tr>\n",
       "      <th>2025-02-01</th>\n",
       "      <td>-0.0243</td>\n",
       "      <td>-0.0493</td>\n",
       "      <td>0.0491</td>\n",
       "      <td>0.0109</td>\n",
       "      <td>0.0306</td>\n",
       "      <td>0.0033</td>\n",
       "    </tr>\n",
       "    <tr>\n",
       "      <th>2025-03-01</th>\n",
       "      <td>-0.0639</td>\n",
       "      <td>-0.0149</td>\n",
       "      <td>0.0290</td>\n",
       "      <td>0.0211</td>\n",
       "      <td>-0.0047</td>\n",
       "      <td>0.0034</td>\n",
       "    </tr>\n",
       "    <tr>\n",
       "      <th>2025-04-01</th>\n",
       "      <td>-0.0085</td>\n",
       "      <td>-0.0185</td>\n",
       "      <td>-0.0341</td>\n",
       "      <td>-0.0284</td>\n",
       "      <td>-0.0267</td>\n",
       "      <td>0.0035</td>\n",
       "    </tr>\n",
       "  </tbody>\n",
       "</table>\n",
       "<p>742 rows × 6 columns</p>\n",
       "</div>"
      ],
      "text/plain": [
       "            Mkt-RF     SMB     HML     RMW     CMA      RF\n",
       "Date                                                      \n",
       "1963-07-01 -0.0039 -0.0048 -0.0081  0.0064 -0.0115  0.0027\n",
       "1963-08-01  0.0508 -0.0080  0.0170  0.0040 -0.0038  0.0025\n",
       "1963-09-01 -0.0157 -0.0043  0.0000 -0.0078  0.0015  0.0027\n",
       "1963-10-01  0.0254 -0.0134 -0.0004  0.0279 -0.0225  0.0029\n",
       "1963-11-01 -0.0086 -0.0085  0.0173 -0.0043  0.0227  0.0027\n",
       "...            ...     ...     ...     ...     ...     ...\n",
       "2024-12-01 -0.0315 -0.0384 -0.0300  0.0191 -0.0121  0.0037\n",
       "2025-01-01  0.0280 -0.0122  0.0162 -0.0233 -0.0324  0.0037\n",
       "2025-02-01 -0.0243 -0.0493  0.0491  0.0109  0.0306  0.0033\n",
       "2025-03-01 -0.0639 -0.0149  0.0290  0.0211 -0.0047  0.0034\n",
       "2025-04-01 -0.0085 -0.0185 -0.0341 -0.0284 -0.0267  0.0035\n",
       "\n",
       "[742 rows x 6 columns]"
      ]
     },
     "execution_count": 11,
     "metadata": {},
     "output_type": "execute_result"
    }
   ],
   "source": [
    "ff5.rename(columns={\"Unnamed: 0\": \"Date\"}, inplace=True)\n",
    "\n",
    "ff5[\"Date\"] = pd.to_datetime(ff5[\"Date\"], format=\"%Y%m\")\n",
    "\n",
    "ff5.set_index(\"Date\", inplace=True)\n",
    "\n",
    "ff5 = ff5.astype(float) / 100\n",
    "ff5"
   ]
  },
  {
   "cell_type": "code",
   "execution_count": 12,
   "id": "ca14232b-3ac2-4cbb-a3c2-70e454b87c22",
   "metadata": {},
   "outputs": [],
   "source": [
    "ffm = pd.read_csv(r\"C:\\Users\\Username\\OneDrive\\Desktop\\Invesco_project\\F-F_Momentum_Factor.csv\",skiprows= 13, nrows = 1180)"
   ]
  },
  {
   "cell_type": "code",
   "execution_count": 13,
   "id": "b3b694aa-2793-4932-a8f2-5fda08f75a4c",
   "metadata": {},
   "outputs": [
    {
     "data": {
      "text/html": [
       "<div>\n",
       "<style scoped>\n",
       "    .dataframe tbody tr th:only-of-type {\n",
       "        vertical-align: middle;\n",
       "    }\n",
       "\n",
       "    .dataframe tbody tr th {\n",
       "        vertical-align: top;\n",
       "    }\n",
       "\n",
       "    .dataframe thead th {\n",
       "        text-align: right;\n",
       "    }\n",
       "</style>\n",
       "<table border=\"1\" class=\"dataframe\">\n",
       "  <thead>\n",
       "    <tr style=\"text-align: right;\">\n",
       "      <th></th>\n",
       "      <th>Unnamed: 0</th>\n",
       "      <th>Mom</th>\n",
       "    </tr>\n",
       "  </thead>\n",
       "  <tbody>\n",
       "    <tr>\n",
       "      <th>0</th>\n",
       "      <td>192701</td>\n",
       "      <td>0.57</td>\n",
       "    </tr>\n",
       "    <tr>\n",
       "      <th>1</th>\n",
       "      <td>192702</td>\n",
       "      <td>-1.50</td>\n",
       "    </tr>\n",
       "    <tr>\n",
       "      <th>2</th>\n",
       "      <td>192703</td>\n",
       "      <td>3.52</td>\n",
       "    </tr>\n",
       "    <tr>\n",
       "      <th>3</th>\n",
       "      <td>192704</td>\n",
       "      <td>4.36</td>\n",
       "    </tr>\n",
       "    <tr>\n",
       "      <th>4</th>\n",
       "      <td>192705</td>\n",
       "      <td>2.78</td>\n",
       "    </tr>\n",
       "    <tr>\n",
       "      <th>...</th>\n",
       "      <td>...</td>\n",
       "      <td>...</td>\n",
       "    </tr>\n",
       "    <tr>\n",
       "      <th>1175</th>\n",
       "      <td>202412</td>\n",
       "      <td>-0.30</td>\n",
       "    </tr>\n",
       "    <tr>\n",
       "      <th>1176</th>\n",
       "      <td>202501</td>\n",
       "      <td>0.95</td>\n",
       "    </tr>\n",
       "    <tr>\n",
       "      <th>1177</th>\n",
       "      <td>202502</td>\n",
       "      <td>-0.82</td>\n",
       "    </tr>\n",
       "    <tr>\n",
       "      <th>1178</th>\n",
       "      <td>202503</td>\n",
       "      <td>-2.82</td>\n",
       "    </tr>\n",
       "    <tr>\n",
       "      <th>1179</th>\n",
       "      <td>202504</td>\n",
       "      <td>4.94</td>\n",
       "    </tr>\n",
       "  </tbody>\n",
       "</table>\n",
       "<p>1180 rows × 2 columns</p>\n",
       "</div>"
      ],
      "text/plain": [
       "      Unnamed: 0   Mom\n",
       "0         192701  0.57\n",
       "1         192702 -1.50\n",
       "2         192703  3.52\n",
       "3         192704  4.36\n",
       "4         192705  2.78\n",
       "...          ...   ...\n",
       "1175      202412 -0.30\n",
       "1176      202501  0.95\n",
       "1177      202502 -0.82\n",
       "1178      202503 -2.82\n",
       "1179      202504  4.94\n",
       "\n",
       "[1180 rows x 2 columns]"
      ]
     },
     "execution_count": 13,
     "metadata": {},
     "output_type": "execute_result"
    }
   ],
   "source": [
    "ffm"
   ]
  },
  {
   "cell_type": "code",
   "execution_count": 14,
   "id": "321db8b6-d1c8-4ea2-a765-6065b36af062",
   "metadata": {},
   "outputs": [
    {
     "data": {
      "text/html": [
       "<div>\n",
       "<style scoped>\n",
       "    .dataframe tbody tr th:only-of-type {\n",
       "        vertical-align: middle;\n",
       "    }\n",
       "\n",
       "    .dataframe tbody tr th {\n",
       "        vertical-align: top;\n",
       "    }\n",
       "\n",
       "    .dataframe thead th {\n",
       "        text-align: right;\n",
       "    }\n",
       "</style>\n",
       "<table border=\"1\" class=\"dataframe\">\n",
       "  <thead>\n",
       "    <tr style=\"text-align: right;\">\n",
       "      <th></th>\n",
       "      <th>Mom</th>\n",
       "    </tr>\n",
       "    <tr>\n",
       "      <th>Date</th>\n",
       "      <th></th>\n",
       "    </tr>\n",
       "  </thead>\n",
       "  <tbody>\n",
       "    <tr>\n",
       "      <th>1927-01-01</th>\n",
       "      <td>0.0057</td>\n",
       "    </tr>\n",
       "    <tr>\n",
       "      <th>1927-02-01</th>\n",
       "      <td>-0.0150</td>\n",
       "    </tr>\n",
       "    <tr>\n",
       "      <th>1927-03-01</th>\n",
       "      <td>0.0352</td>\n",
       "    </tr>\n",
       "    <tr>\n",
       "      <th>1927-04-01</th>\n",
       "      <td>0.0436</td>\n",
       "    </tr>\n",
       "    <tr>\n",
       "      <th>1927-05-01</th>\n",
       "      <td>0.0278</td>\n",
       "    </tr>\n",
       "    <tr>\n",
       "      <th>...</th>\n",
       "      <td>...</td>\n",
       "    </tr>\n",
       "    <tr>\n",
       "      <th>2024-12-01</th>\n",
       "      <td>-0.0030</td>\n",
       "    </tr>\n",
       "    <tr>\n",
       "      <th>2025-01-01</th>\n",
       "      <td>0.0095</td>\n",
       "    </tr>\n",
       "    <tr>\n",
       "      <th>2025-02-01</th>\n",
       "      <td>-0.0082</td>\n",
       "    </tr>\n",
       "    <tr>\n",
       "      <th>2025-03-01</th>\n",
       "      <td>-0.0282</td>\n",
       "    </tr>\n",
       "    <tr>\n",
       "      <th>2025-04-01</th>\n",
       "      <td>0.0494</td>\n",
       "    </tr>\n",
       "  </tbody>\n",
       "</table>\n",
       "<p>1180 rows × 1 columns</p>\n",
       "</div>"
      ],
      "text/plain": [
       "               Mom\n",
       "Date              \n",
       "1927-01-01  0.0057\n",
       "1927-02-01 -0.0150\n",
       "1927-03-01  0.0352\n",
       "1927-04-01  0.0436\n",
       "1927-05-01  0.0278\n",
       "...            ...\n",
       "2024-12-01 -0.0030\n",
       "2025-01-01  0.0095\n",
       "2025-02-01 -0.0082\n",
       "2025-03-01 -0.0282\n",
       "2025-04-01  0.0494\n",
       "\n",
       "[1180 rows x 1 columns]"
      ]
     },
     "execution_count": 14,
     "metadata": {},
     "output_type": "execute_result"
    }
   ],
   "source": [
    "ffm.rename(columns={\"Unnamed: 0\": \"Date\"}, inplace=True)\n",
    "\n",
    "ffm[\"Date\"] = pd.to_datetime(ffm[\"Date\"], format=\"%Y%m\")\n",
    "\n",
    "ffm.set_index(\"Date\", inplace=True)\n",
    "\n",
    "ffm = ffm.astype(float) / 100\n",
    "ffm"
   ]
  },
  {
   "cell_type": "code",
   "execution_count": 15,
   "id": "8cef63c8-45a5-49b8-9f6d-270b02cdf547",
   "metadata": {},
   "outputs": [
    {
     "data": {
      "text/html": [
       "<div>\n",
       "<style scoped>\n",
       "    .dataframe tbody tr th:only-of-type {\n",
       "        vertical-align: middle;\n",
       "    }\n",
       "\n",
       "    .dataframe tbody tr th {\n",
       "        vertical-align: top;\n",
       "    }\n",
       "\n",
       "    .dataframe thead th {\n",
       "        text-align: right;\n",
       "    }\n",
       "</style>\n",
       "<table border=\"1\" class=\"dataframe\">\n",
       "  <thead>\n",
       "    <tr style=\"text-align: right;\">\n",
       "      <th></th>\n",
       "      <th>Mkt-RF</th>\n",
       "      <th>SMB</th>\n",
       "      <th>HML</th>\n",
       "      <th>RMW</th>\n",
       "      <th>CMA</th>\n",
       "      <th>RF</th>\n",
       "      <th>Mom</th>\n",
       "    </tr>\n",
       "    <tr>\n",
       "      <th>Date</th>\n",
       "      <th></th>\n",
       "      <th></th>\n",
       "      <th></th>\n",
       "      <th></th>\n",
       "      <th></th>\n",
       "      <th></th>\n",
       "      <th></th>\n",
       "    </tr>\n",
       "  </thead>\n",
       "  <tbody>\n",
       "    <tr>\n",
       "      <th>1963-07-01</th>\n",
       "      <td>-0.0039</td>\n",
       "      <td>-0.0048</td>\n",
       "      <td>-0.0081</td>\n",
       "      <td>0.0064</td>\n",
       "      <td>-0.0115</td>\n",
       "      <td>0.0027</td>\n",
       "      <td>0.0101</td>\n",
       "    </tr>\n",
       "    <tr>\n",
       "      <th>1963-08-01</th>\n",
       "      <td>0.0508</td>\n",
       "      <td>-0.0080</td>\n",
       "      <td>0.0170</td>\n",
       "      <td>0.0040</td>\n",
       "      <td>-0.0038</td>\n",
       "      <td>0.0025</td>\n",
       "      <td>0.0100</td>\n",
       "    </tr>\n",
       "    <tr>\n",
       "      <th>1963-09-01</th>\n",
       "      <td>-0.0157</td>\n",
       "      <td>-0.0043</td>\n",
       "      <td>0.0000</td>\n",
       "      <td>-0.0078</td>\n",
       "      <td>0.0015</td>\n",
       "      <td>0.0027</td>\n",
       "      <td>0.0012</td>\n",
       "    </tr>\n",
       "    <tr>\n",
       "      <th>1963-10-01</th>\n",
       "      <td>0.0254</td>\n",
       "      <td>-0.0134</td>\n",
       "      <td>-0.0004</td>\n",
       "      <td>0.0279</td>\n",
       "      <td>-0.0225</td>\n",
       "      <td>0.0029</td>\n",
       "      <td>0.0313</td>\n",
       "    </tr>\n",
       "    <tr>\n",
       "      <th>1963-11-01</th>\n",
       "      <td>-0.0086</td>\n",
       "      <td>-0.0085</td>\n",
       "      <td>0.0173</td>\n",
       "      <td>-0.0043</td>\n",
       "      <td>0.0227</td>\n",
       "      <td>0.0027</td>\n",
       "      <td>-0.0078</td>\n",
       "    </tr>\n",
       "    <tr>\n",
       "      <th>...</th>\n",
       "      <td>...</td>\n",
       "      <td>...</td>\n",
       "      <td>...</td>\n",
       "      <td>...</td>\n",
       "      <td>...</td>\n",
       "      <td>...</td>\n",
       "      <td>...</td>\n",
       "    </tr>\n",
       "    <tr>\n",
       "      <th>2024-12-01</th>\n",
       "      <td>-0.0315</td>\n",
       "      <td>-0.0384</td>\n",
       "      <td>-0.0300</td>\n",
       "      <td>0.0191</td>\n",
       "      <td>-0.0121</td>\n",
       "      <td>0.0037</td>\n",
       "      <td>-0.0030</td>\n",
       "    </tr>\n",
       "    <tr>\n",
       "      <th>2025-01-01</th>\n",
       "      <td>0.0280</td>\n",
       "      <td>-0.0122</td>\n",
       "      <td>0.0162</td>\n",
       "      <td>-0.0233</td>\n",
       "      <td>-0.0324</td>\n",
       "      <td>0.0037</td>\n",
       "      <td>0.0095</td>\n",
       "    </tr>\n",
       "    <tr>\n",
       "      <th>2025-02-01</th>\n",
       "      <td>-0.0243</td>\n",
       "      <td>-0.0493</td>\n",
       "      <td>0.0491</td>\n",
       "      <td>0.0109</td>\n",
       "      <td>0.0306</td>\n",
       "      <td>0.0033</td>\n",
       "      <td>-0.0082</td>\n",
       "    </tr>\n",
       "    <tr>\n",
       "      <th>2025-03-01</th>\n",
       "      <td>-0.0639</td>\n",
       "      <td>-0.0149</td>\n",
       "      <td>0.0290</td>\n",
       "      <td>0.0211</td>\n",
       "      <td>-0.0047</td>\n",
       "      <td>0.0034</td>\n",
       "      <td>-0.0282</td>\n",
       "    </tr>\n",
       "    <tr>\n",
       "      <th>2025-04-01</th>\n",
       "      <td>-0.0085</td>\n",
       "      <td>-0.0185</td>\n",
       "      <td>-0.0341</td>\n",
       "      <td>-0.0284</td>\n",
       "      <td>-0.0267</td>\n",
       "      <td>0.0035</td>\n",
       "      <td>0.0494</td>\n",
       "    </tr>\n",
       "  </tbody>\n",
       "</table>\n",
       "<p>742 rows × 7 columns</p>\n",
       "</div>"
      ],
      "text/plain": [
       "            Mkt-RF     SMB     HML     RMW     CMA      RF     Mom\n",
       "Date                                                              \n",
       "1963-07-01 -0.0039 -0.0048 -0.0081  0.0064 -0.0115  0.0027  0.0101\n",
       "1963-08-01  0.0508 -0.0080  0.0170  0.0040 -0.0038  0.0025  0.0100\n",
       "1963-09-01 -0.0157 -0.0043  0.0000 -0.0078  0.0015  0.0027  0.0012\n",
       "1963-10-01  0.0254 -0.0134 -0.0004  0.0279 -0.0225  0.0029  0.0313\n",
       "1963-11-01 -0.0086 -0.0085  0.0173 -0.0043  0.0227  0.0027 -0.0078\n",
       "...            ...     ...     ...     ...     ...     ...     ...\n",
       "2024-12-01 -0.0315 -0.0384 -0.0300  0.0191 -0.0121  0.0037 -0.0030\n",
       "2025-01-01  0.0280 -0.0122  0.0162 -0.0233 -0.0324  0.0037  0.0095\n",
       "2025-02-01 -0.0243 -0.0493  0.0491  0.0109  0.0306  0.0033 -0.0082\n",
       "2025-03-01 -0.0639 -0.0149  0.0290  0.0211 -0.0047  0.0034 -0.0282\n",
       "2025-04-01 -0.0085 -0.0185 -0.0341 -0.0284 -0.0267  0.0035  0.0494\n",
       "\n",
       "[742 rows x 7 columns]"
      ]
     },
     "execution_count": 15,
     "metadata": {},
     "output_type": "execute_result"
    }
   ],
   "source": [
    "ff = ff5.join(ffm, how=\"inner\")\n",
    "ff"
   ]
  },
  {
   "cell_type": "code",
   "execution_count": 16,
   "id": "4f407be5-5565-4e2c-b648-a886b00ab72c",
   "metadata": {},
   "outputs": [
    {
     "data": {
      "text/html": [
       "<div>\n",
       "<style scoped>\n",
       "    .dataframe tbody tr th:only-of-type {\n",
       "        vertical-align: middle;\n",
       "    }\n",
       "\n",
       "    .dataframe tbody tr th {\n",
       "        vertical-align: top;\n",
       "    }\n",
       "\n",
       "    .dataframe thead th {\n",
       "        text-align: right;\n",
       "    }\n",
       "</style>\n",
       "<table border=\"1\" class=\"dataframe\">\n",
       "  <thead>\n",
       "    <tr style=\"text-align: right;\">\n",
       "      <th></th>\n",
       "      <th>Mkt-RF</th>\n",
       "      <th>SMB</th>\n",
       "      <th>HML</th>\n",
       "      <th>RMW</th>\n",
       "      <th>CMA</th>\n",
       "      <th>RF</th>\n",
       "      <th>Mom</th>\n",
       "    </tr>\n",
       "    <tr>\n",
       "      <th>Date</th>\n",
       "      <th></th>\n",
       "      <th></th>\n",
       "      <th></th>\n",
       "      <th></th>\n",
       "      <th></th>\n",
       "      <th></th>\n",
       "      <th></th>\n",
       "    </tr>\n",
       "  </thead>\n",
       "  <tbody>\n",
       "    <tr>\n",
       "      <th>2005-06-01</th>\n",
       "      <td>0.0058</td>\n",
       "      <td>0.0326</td>\n",
       "      <td>0.0280</td>\n",
       "      <td>0.0087</td>\n",
       "      <td>-0.0052</td>\n",
       "      <td>0.0023</td>\n",
       "      <td>0.0207</td>\n",
       "    </tr>\n",
       "    <tr>\n",
       "      <th>2005-07-01</th>\n",
       "      <td>0.0392</td>\n",
       "      <td>0.0276</td>\n",
       "      <td>-0.0078</td>\n",
       "      <td>-0.0119</td>\n",
       "      <td>-0.0078</td>\n",
       "      <td>0.0024</td>\n",
       "      <td>0.0003</td>\n",
       "    </tr>\n",
       "    <tr>\n",
       "      <th>2005-08-01</th>\n",
       "      <td>-0.0120</td>\n",
       "      <td>-0.0094</td>\n",
       "      <td>0.0134</td>\n",
       "      <td>-0.0196</td>\n",
       "      <td>0.0038</td>\n",
       "      <td>0.0030</td>\n",
       "      <td>0.0207</td>\n",
       "    </tr>\n",
       "    <tr>\n",
       "      <th>2005-09-01</th>\n",
       "      <td>0.0048</td>\n",
       "      <td>-0.0031</td>\n",
       "      <td>0.0078</td>\n",
       "      <td>0.0026</td>\n",
       "      <td>-0.0061</td>\n",
       "      <td>0.0029</td>\n",
       "      <td>0.0346</td>\n",
       "    </tr>\n",
       "    <tr>\n",
       "      <th>2005-10-01</th>\n",
       "      <td>-0.0204</td>\n",
       "      <td>-0.0150</td>\n",
       "      <td>0.0043</td>\n",
       "      <td>-0.0070</td>\n",
       "      <td>-0.0126</td>\n",
       "      <td>0.0027</td>\n",
       "      <td>-0.0119</td>\n",
       "    </tr>\n",
       "    <tr>\n",
       "      <th>...</th>\n",
       "      <td>...</td>\n",
       "      <td>...</td>\n",
       "      <td>...</td>\n",
       "      <td>...</td>\n",
       "      <td>...</td>\n",
       "      <td>...</td>\n",
       "      <td>...</td>\n",
       "    </tr>\n",
       "    <tr>\n",
       "      <th>2024-12-01</th>\n",
       "      <td>-0.0315</td>\n",
       "      <td>-0.0384</td>\n",
       "      <td>-0.0300</td>\n",
       "      <td>0.0191</td>\n",
       "      <td>-0.0121</td>\n",
       "      <td>0.0037</td>\n",
       "      <td>-0.0030</td>\n",
       "    </tr>\n",
       "    <tr>\n",
       "      <th>2025-01-01</th>\n",
       "      <td>0.0280</td>\n",
       "      <td>-0.0122</td>\n",
       "      <td>0.0162</td>\n",
       "      <td>-0.0233</td>\n",
       "      <td>-0.0324</td>\n",
       "      <td>0.0037</td>\n",
       "      <td>0.0095</td>\n",
       "    </tr>\n",
       "    <tr>\n",
       "      <th>2025-02-01</th>\n",
       "      <td>-0.0243</td>\n",
       "      <td>-0.0493</td>\n",
       "      <td>0.0491</td>\n",
       "      <td>0.0109</td>\n",
       "      <td>0.0306</td>\n",
       "      <td>0.0033</td>\n",
       "      <td>-0.0082</td>\n",
       "    </tr>\n",
       "    <tr>\n",
       "      <th>2025-03-01</th>\n",
       "      <td>-0.0639</td>\n",
       "      <td>-0.0149</td>\n",
       "      <td>0.0290</td>\n",
       "      <td>0.0211</td>\n",
       "      <td>-0.0047</td>\n",
       "      <td>0.0034</td>\n",
       "      <td>-0.0282</td>\n",
       "    </tr>\n",
       "    <tr>\n",
       "      <th>2025-04-01</th>\n",
       "      <td>-0.0085</td>\n",
       "      <td>-0.0185</td>\n",
       "      <td>-0.0341</td>\n",
       "      <td>-0.0284</td>\n",
       "      <td>-0.0267</td>\n",
       "      <td>0.0035</td>\n",
       "      <td>0.0494</td>\n",
       "    </tr>\n",
       "  </tbody>\n",
       "</table>\n",
       "<p>239 rows × 7 columns</p>\n",
       "</div>"
      ],
      "text/plain": [
       "            Mkt-RF     SMB     HML     RMW     CMA      RF     Mom\n",
       "Date                                                              \n",
       "2005-06-01  0.0058  0.0326  0.0280  0.0087 -0.0052  0.0023  0.0207\n",
       "2005-07-01  0.0392  0.0276 -0.0078 -0.0119 -0.0078  0.0024  0.0003\n",
       "2005-08-01 -0.0120 -0.0094  0.0134 -0.0196  0.0038  0.0030  0.0207\n",
       "2005-09-01  0.0048 -0.0031  0.0078  0.0026 -0.0061  0.0029  0.0346\n",
       "2005-10-01 -0.0204 -0.0150  0.0043 -0.0070 -0.0126  0.0027 -0.0119\n",
       "...            ...     ...     ...     ...     ...     ...     ...\n",
       "2024-12-01 -0.0315 -0.0384 -0.0300  0.0191 -0.0121  0.0037 -0.0030\n",
       "2025-01-01  0.0280 -0.0122  0.0162 -0.0233 -0.0324  0.0037  0.0095\n",
       "2025-02-01 -0.0243 -0.0493  0.0491  0.0109  0.0306  0.0033 -0.0082\n",
       "2025-03-01 -0.0639 -0.0149  0.0290  0.0211 -0.0047  0.0034 -0.0282\n",
       "2025-04-01 -0.0085 -0.0185 -0.0341 -0.0284 -0.0267  0.0035  0.0494\n",
       "\n",
       "[239 rows x 7 columns]"
      ]
     },
     "execution_count": 16,
     "metadata": {},
     "output_type": "execute_result"
    }
   ],
   "source": [
    "fff = ff.loc[\"2005-06\":\"2025-06\"]\n",
    "fff"
   ]
  },
  {
   "cell_type": "code",
   "execution_count": 17,
   "id": "b090de9b-18a4-435b-a8c1-d9100c6425fd",
   "metadata": {},
   "outputs": [],
   "source": [
    "spc.set_index(\"Date\", inplace=True)\n",
    "spe.set_index(\"Date\", inplace=True)"
   ]
  },
  {
   "cell_type": "code",
   "execution_count": 18,
   "id": "ad6cc62f-d8fe-4fed-b257-e28a71b253eb",
   "metadata": {},
   "outputs": [],
   "source": [
    "spc_ret = spc[\"Close\"].pct_change()\n",
    "spe_ret = spe[\"Close\"].pct_change()\n",
    "\n",
    "spread_ret = spc_ret - spe_ret\n",
    "spread_ret.name = \"Spread\"\n",
    "\n",
    "fff, spread_ret = fff.align(spread_ret, join=\"inner\", axis=0)"
   ]
  },
  {
   "cell_type": "code",
   "execution_count": 21,
   "id": "83f277fe-1593-4440-90c1-703fc46114c8",
   "metadata": {},
   "outputs": [
    {
     "name": "stdout",
     "output_type": "stream",
     "text": [
      "Date\n",
      "2005-06-01       NaN\n",
      "2005-07-01   -0.0176\n",
      "2005-08-01   -0.0025\n",
      "2005-09-01    0.0046\n",
      "2005-10-01    0.0065\n",
      "Name: Spread, dtype: float64\n",
      "DatetimeIndex(['2005-06-01', '2005-07-01', '2005-08-01', '2005-09-01',\n",
      "               '2005-10-01', '2005-11-01', '2005-12-01', '2006-01-01',\n",
      "               '2006-02-01', '2006-03-01',\n",
      "               ...\n",
      "               '2024-07-01', '2024-08-01', '2024-09-01', '2024-10-01',\n",
      "               '2024-11-01', '2024-12-01', '2025-01-01', '2025-02-01',\n",
      "               '2025-03-01', '2025-04-01'],\n",
      "              dtype='datetime64[ns]', name='Date', length=239, freq=None)\n"
     ]
    }
   ],
   "source": [
    "print(spread_ret.head())\n",
    "print(spread_ret.index)\n"
   ]
  },
  {
   "cell_type": "code",
   "execution_count": 22,
   "id": "796d9e2b-208f-4ce9-a9d7-48417ebe5657",
   "metadata": {},
   "outputs": [],
   "source": [
    "spread_ret = spread_ret.dropna()\n",
    "fff, spread_ret = fff.align(spread_ret, join=\"inner\", axis=0)"
   ]
  },
  {
   "cell_type": "code",
   "execution_count": 32,
   "id": "ff1b6e7d-1b4c-4699-af2b-c87d680e5197",
   "metadata": {},
   "outputs": [
    {
     "data": {
      "text/html": [
       "<div>\n",
       "<style scoped>\n",
       "    .dataframe tbody tr th:only-of-type {\n",
       "        vertical-align: middle;\n",
       "    }\n",
       "\n",
       "    .dataframe tbody tr th {\n",
       "        vertical-align: top;\n",
       "    }\n",
       "\n",
       "    .dataframe thead th {\n",
       "        text-align: right;\n",
       "    }\n",
       "</style>\n",
       "<table border=\"1\" class=\"dataframe\">\n",
       "  <thead>\n",
       "    <tr style=\"text-align: right;\">\n",
       "      <th></th>\n",
       "      <th>Factor</th>\n",
       "      <th>Alpha</th>\n",
       "      <th>Beta</th>\n",
       "      <th>p_alpha</th>\n",
       "      <th>p_beta</th>\n",
       "      <th>R_squared</th>\n",
       "      <th>Semi_Deviation</th>\n",
       "      <th>Sortino_Ratio</th>\n",
       "    </tr>\n",
       "  </thead>\n",
       "  <tbody>\n",
       "    <tr>\n",
       "      <th>0</th>\n",
       "      <td>SMB</td>\n",
       "      <td>-0.0015</td>\n",
       "      <td>-0.3445</td>\n",
       "      <td>0.0489</td>\n",
       "      <td>0.0000</td>\n",
       "      <td>0.3736</td>\n",
       "      <td>0.0085</td>\n",
       "      <td>-0.1810</td>\n",
       "    </tr>\n",
       "    <tr>\n",
       "      <th>1</th>\n",
       "      <td>Mom</td>\n",
       "      <td>-0.0015</td>\n",
       "      <td>0.1911</td>\n",
       "      <td>0.0618</td>\n",
       "      <td>0.0000</td>\n",
       "      <td>0.3131</td>\n",
       "      <td>0.0073</td>\n",
       "      <td>-0.2105</td>\n",
       "    </tr>\n",
       "    <tr>\n",
       "      <th>2</th>\n",
       "      <td>HML</td>\n",
       "      <td>-0.0016</td>\n",
       "      <td>-0.2534</td>\n",
       "      <td>0.0516</td>\n",
       "      <td>0.0000</td>\n",
       "      <td>0.2945</td>\n",
       "      <td>0.0099</td>\n",
       "      <td>-0.1626</td>\n",
       "    </tr>\n",
       "    <tr>\n",
       "      <th>3</th>\n",
       "      <td>Mkt-RF</td>\n",
       "      <td>-0.0004</td>\n",
       "      <td>-0.1214</td>\n",
       "      <td>0.6729</td>\n",
       "      <td>0.0000</td>\n",
       "      <td>0.1309</td>\n",
       "      <td>0.0104</td>\n",
       "      <td>-0.0377</td>\n",
       "    </tr>\n",
       "    <tr>\n",
       "      <th>4</th>\n",
       "      <td>CMA</td>\n",
       "      <td>-0.0013</td>\n",
       "      <td>-0.1971</td>\n",
       "      <td>0.1616</td>\n",
       "      <td>0.0001</td>\n",
       "      <td>0.0636</td>\n",
       "      <td>0.0112</td>\n",
       "      <td>-0.1187</td>\n",
       "    </tr>\n",
       "    <tr>\n",
       "      <th>5</th>\n",
       "      <td>RMW</td>\n",
       "      <td>-0.0017</td>\n",
       "      <td>0.1227</td>\n",
       "      <td>0.0769</td>\n",
       "      <td>0.0188</td>\n",
       "      <td>0.0232</td>\n",
       "      <td>0.0116</td>\n",
       "      <td>-0.1512</td>\n",
       "    </tr>\n",
       "    <tr>\n",
       "      <th>6</th>\n",
       "      <td>RF</td>\n",
       "      <td>-0.0032</td>\n",
       "      <td>1.4222</td>\n",
       "      <td>0.0110</td>\n",
       "      <td>0.0197</td>\n",
       "      <td>0.0228</td>\n",
       "      <td>0.0112</td>\n",
       "      <td>-0.2855</td>\n",
       "    </tr>\n",
       "  </tbody>\n",
       "</table>\n",
       "</div>"
      ],
      "text/plain": [
       "   Factor   Alpha    Beta  p_alpha  p_beta  R_squared  Semi_Deviation  \\\n",
       "0     SMB -0.0015 -0.3445   0.0489  0.0000     0.3736          0.0085   \n",
       "1     Mom -0.0015  0.1911   0.0618  0.0000     0.3131          0.0073   \n",
       "2     HML -0.0016 -0.2534   0.0516  0.0000     0.2945          0.0099   \n",
       "3  Mkt-RF -0.0004 -0.1214   0.6729  0.0000     0.1309          0.0104   \n",
       "4     CMA -0.0013 -0.1971   0.1616  0.0001     0.0636          0.0112   \n",
       "5     RMW -0.0017  0.1227   0.0769  0.0188     0.0232          0.0116   \n",
       "6      RF -0.0032  1.4222   0.0110  0.0197     0.0228          0.0112   \n",
       "\n",
       "   Sortino_Ratio  \n",
       "0        -0.1810  \n",
       "1        -0.2105  \n",
       "2        -0.1626  \n",
       "3        -0.0377  \n",
       "4        -0.1187  \n",
       "5        -0.1512  \n",
       "6        -0.2855  "
      ]
     },
     "execution_count": 32,
     "metadata": {},
     "output_type": "execute_result"
    }
   ],
   "source": [
    "results = []\n",
    "\n",
    "for factor in fff.columns:\n",
    "    X = sm.add_constant(fff[[factor]])\n",
    "    model = sm.OLS(spread_ret, X).fit()\n",
    "    \n",
    "    residuals = model.resid\n",
    "    semi_dev = np.std(residuals[residuals < 0]) \n",
    "    alpha = model.params.get(\"const\", np.nan)\n",
    "    \n",
    "    sortino = alpha / semi_dev if semi_dev != 0 else np.nan\n",
    "\n",
    "    results.append({\n",
    "        \"Factor\": factor,\n",
    "        \"Alpha\": alpha,\n",
    "        \"Beta\": model.params.get(factor, np.nan),\n",
    "        \"p_alpha\": model.pvalues.get(\"const\", np.nan),\n",
    "        \"p_beta\": model.pvalues.get(factor, np.nan),\n",
    "        \"R_squared\": model.rsquared,\n",
    "        \"Semi_Deviation\": semi_dev,\n",
    "        \"Sortino_Ratio\": sortino\n",
    "    })\n",
    "\n",
    "\n",
    "reg_summary = pd.DataFrame(results)\n",
    "reg_summary.sort_values(\"R_squared\", ascending=False, inplace=True)\n",
    "reg_summary.reset_index(drop=True, inplace=True)\n",
    "\n",
    "pd.set_option('display.float_format', lambda x: f'{x:.4f}')\n",
    "reg_summary"
   ]
  },
  {
   "cell_type": "code",
   "execution_count": 33,
   "id": "cda18f6d-b23a-42cb-83dd-56641ccd988e",
   "metadata": {},
   "outputs": [
    {
     "data": {
      "application/vnd.plotly.v1+json": {
       "config": {
        "plotlyServerURL": "https://plot.ly"
       },
       "data": [
        {
         "customdata": {
          "bdata": "beCVv/czWb//IERu0gzWvzeAQ9/QDKk/veywkufjuzrEgPI1UwVZv8aFDwWYdsg/Jv0Nxfqlrz/627HcXMG4O2tgVOTRclq/rbqpqvA30L/388VS12SqPz8nimZlfgI8H1w/5E++Ob8a2oaRxha/vxJNbEFAiOU/38jyaHmCQz4UDY2q/dpVvzSKIvADOsm/mWAbwCGuxD+wJWHRBd0VP9CsFGz6qFy/JDiAfEFpvz+E0op1x7GzP+CP88+6QpM/4Xf/8hpCar+BADYXgsH2P4yrGM8FjoY/Hydu8CMulD8=",
          "dtype": "f8",
          "shape": "7, 4"
         },
         "hovertemplate": "Factor=%{x}<br>R_squared=%{y:.3f}<br>Alpha=%{customdata[0]:.4f}<br>Beta=%{marker.color:.4f}<br>p_alpha=%{customdata[2]:.3f}<br>p_beta=%{customdata[3]:.3f}<extra></extra>",
         "legendgroup": "",
         "marker": {
          "color": {
           "bdata": "/yBEbtIM1r/GhQ8FmHbIP626qarwN9C/GtqGkcYWv780iiLwAzrJvyQ4gHxBab8/gQA2F4LB9j8=",
           "dtype": "f8"
          },
          "coloraxis": "coloraxis",
          "pattern": {
           "shape": ""
          }
         },
         "name": "",
         "orientation": "v",
         "showlegend": false,
         "textposition": "auto",
         "texttemplate": "%{y:.2f}",
         "type": "bar",
         "x": [
          "SMB",
          "Mom",
          "HML",
          "Mkt-RF",
          "CMA",
          "RMW",
          "RF"
         ],
         "xaxis": "x",
         "y": {
          "bdata": "2kag1fbo1z/sgFUrOAnUPxhjtvZG2dI/7I5KkcG/wD94Rvq9JEmwPwAbhDUfuJc/4PEZnXZflz8=",
          "dtype": "f8"
         },
         "yaxis": "y"
        }
       ],
       "layout": {
        "barmode": "relative",
        "coloraxis": {
         "colorbar": {
          "title": {
           "text": "Beta"
          }
         },
         "colorscale": [
          [
           0,
           "rgb(5,48,97)"
          ],
          [
           0.1,
           "rgb(33,102,172)"
          ],
          [
           0.2,
           "rgb(67,147,195)"
          ],
          [
           0.3,
           "rgb(146,197,222)"
          ],
          [
           0.4,
           "rgb(209,229,240)"
          ],
          [
           0.5,
           "rgb(247,247,247)"
          ],
          [
           0.6,
           "rgb(253,219,199)"
          ],
          [
           0.7,
           "rgb(244,165,130)"
          ],
          [
           0.8,
           "rgb(214,96,77)"
          ],
          [
           0.9,
           "rgb(178,24,43)"
          ],
          [
           1,
           "rgb(103,0,31)"
          ]
         ]
        },
        "hovermode": "x unified",
        "legend": {
         "tracegroupgap": 0
        },
        "template": {
         "data": {
          "bar": [
           {
            "error_x": {
             "color": "#2a3f5f"
            },
            "error_y": {
             "color": "#2a3f5f"
            },
            "marker": {
             "line": {
              "color": "#E5ECF6",
              "width": 0.5
             },
             "pattern": {
              "fillmode": "overlay",
              "size": 10,
              "solidity": 0.2
             }
            },
            "type": "bar"
           }
          ],
          "barpolar": [
           {
            "marker": {
             "line": {
              "color": "#E5ECF6",
              "width": 0.5
             },
             "pattern": {
              "fillmode": "overlay",
              "size": 10,
              "solidity": 0.2
             }
            },
            "type": "barpolar"
           }
          ],
          "carpet": [
           {
            "aaxis": {
             "endlinecolor": "#2a3f5f",
             "gridcolor": "white",
             "linecolor": "white",
             "minorgridcolor": "white",
             "startlinecolor": "#2a3f5f"
            },
            "baxis": {
             "endlinecolor": "#2a3f5f",
             "gridcolor": "white",
             "linecolor": "white",
             "minorgridcolor": "white",
             "startlinecolor": "#2a3f5f"
            },
            "type": "carpet"
           }
          ],
          "choropleth": [
           {
            "colorbar": {
             "outlinewidth": 0,
             "ticks": ""
            },
            "type": "choropleth"
           }
          ],
          "contour": [
           {
            "colorbar": {
             "outlinewidth": 0,
             "ticks": ""
            },
            "colorscale": [
             [
              0,
              "#0d0887"
             ],
             [
              0.1111111111111111,
              "#46039f"
             ],
             [
              0.2222222222222222,
              "#7201a8"
             ],
             [
              0.3333333333333333,
              "#9c179e"
             ],
             [
              0.4444444444444444,
              "#bd3786"
             ],
             [
              0.5555555555555556,
              "#d8576b"
             ],
             [
              0.6666666666666666,
              "#ed7953"
             ],
             [
              0.7777777777777778,
              "#fb9f3a"
             ],
             [
              0.8888888888888888,
              "#fdca26"
             ],
             [
              1,
              "#f0f921"
             ]
            ],
            "type": "contour"
           }
          ],
          "contourcarpet": [
           {
            "colorbar": {
             "outlinewidth": 0,
             "ticks": ""
            },
            "type": "contourcarpet"
           }
          ],
          "heatmap": [
           {
            "colorbar": {
             "outlinewidth": 0,
             "ticks": ""
            },
            "colorscale": [
             [
              0,
              "#0d0887"
             ],
             [
              0.1111111111111111,
              "#46039f"
             ],
             [
              0.2222222222222222,
              "#7201a8"
             ],
             [
              0.3333333333333333,
              "#9c179e"
             ],
             [
              0.4444444444444444,
              "#bd3786"
             ],
             [
              0.5555555555555556,
              "#d8576b"
             ],
             [
              0.6666666666666666,
              "#ed7953"
             ],
             [
              0.7777777777777778,
              "#fb9f3a"
             ],
             [
              0.8888888888888888,
              "#fdca26"
             ],
             [
              1,
              "#f0f921"
             ]
            ],
            "type": "heatmap"
           }
          ],
          "histogram": [
           {
            "marker": {
             "pattern": {
              "fillmode": "overlay",
              "size": 10,
              "solidity": 0.2
             }
            },
            "type": "histogram"
           }
          ],
          "histogram2d": [
           {
            "colorbar": {
             "outlinewidth": 0,
             "ticks": ""
            },
            "colorscale": [
             [
              0,
              "#0d0887"
             ],
             [
              0.1111111111111111,
              "#46039f"
             ],
             [
              0.2222222222222222,
              "#7201a8"
             ],
             [
              0.3333333333333333,
              "#9c179e"
             ],
             [
              0.4444444444444444,
              "#bd3786"
             ],
             [
              0.5555555555555556,
              "#d8576b"
             ],
             [
              0.6666666666666666,
              "#ed7953"
             ],
             [
              0.7777777777777778,
              "#fb9f3a"
             ],
             [
              0.8888888888888888,
              "#fdca26"
             ],
             [
              1,
              "#f0f921"
             ]
            ],
            "type": "histogram2d"
           }
          ],
          "histogram2dcontour": [
           {
            "colorbar": {
             "outlinewidth": 0,
             "ticks": ""
            },
            "colorscale": [
             [
              0,
              "#0d0887"
             ],
             [
              0.1111111111111111,
              "#46039f"
             ],
             [
              0.2222222222222222,
              "#7201a8"
             ],
             [
              0.3333333333333333,
              "#9c179e"
             ],
             [
              0.4444444444444444,
              "#bd3786"
             ],
             [
              0.5555555555555556,
              "#d8576b"
             ],
             [
              0.6666666666666666,
              "#ed7953"
             ],
             [
              0.7777777777777778,
              "#fb9f3a"
             ],
             [
              0.8888888888888888,
              "#fdca26"
             ],
             [
              1,
              "#f0f921"
             ]
            ],
            "type": "histogram2dcontour"
           }
          ],
          "mesh3d": [
           {
            "colorbar": {
             "outlinewidth": 0,
             "ticks": ""
            },
            "type": "mesh3d"
           }
          ],
          "parcoords": [
           {
            "line": {
             "colorbar": {
              "outlinewidth": 0,
              "ticks": ""
             }
            },
            "type": "parcoords"
           }
          ],
          "pie": [
           {
            "automargin": true,
            "type": "pie"
           }
          ],
          "scatter": [
           {
            "fillpattern": {
             "fillmode": "overlay",
             "size": 10,
             "solidity": 0.2
            },
            "type": "scatter"
           }
          ],
          "scatter3d": [
           {
            "line": {
             "colorbar": {
              "outlinewidth": 0,
              "ticks": ""
             }
            },
            "marker": {
             "colorbar": {
              "outlinewidth": 0,
              "ticks": ""
             }
            },
            "type": "scatter3d"
           }
          ],
          "scattercarpet": [
           {
            "marker": {
             "colorbar": {
              "outlinewidth": 0,
              "ticks": ""
             }
            },
            "type": "scattercarpet"
           }
          ],
          "scattergeo": [
           {
            "marker": {
             "colorbar": {
              "outlinewidth": 0,
              "ticks": ""
             }
            },
            "type": "scattergeo"
           }
          ],
          "scattergl": [
           {
            "marker": {
             "colorbar": {
              "outlinewidth": 0,
              "ticks": ""
             }
            },
            "type": "scattergl"
           }
          ],
          "scattermap": [
           {
            "marker": {
             "colorbar": {
              "outlinewidth": 0,
              "ticks": ""
             }
            },
            "type": "scattermap"
           }
          ],
          "scattermapbox": [
           {
            "marker": {
             "colorbar": {
              "outlinewidth": 0,
              "ticks": ""
             }
            },
            "type": "scattermapbox"
           }
          ],
          "scatterpolar": [
           {
            "marker": {
             "colorbar": {
              "outlinewidth": 0,
              "ticks": ""
             }
            },
            "type": "scatterpolar"
           }
          ],
          "scatterpolargl": [
           {
            "marker": {
             "colorbar": {
              "outlinewidth": 0,
              "ticks": ""
             }
            },
            "type": "scatterpolargl"
           }
          ],
          "scatterternary": [
           {
            "marker": {
             "colorbar": {
              "outlinewidth": 0,
              "ticks": ""
             }
            },
            "type": "scatterternary"
           }
          ],
          "surface": [
           {
            "colorbar": {
             "outlinewidth": 0,
             "ticks": ""
            },
            "colorscale": [
             [
              0,
              "#0d0887"
             ],
             [
              0.1111111111111111,
              "#46039f"
             ],
             [
              0.2222222222222222,
              "#7201a8"
             ],
             [
              0.3333333333333333,
              "#9c179e"
             ],
             [
              0.4444444444444444,
              "#bd3786"
             ],
             [
              0.5555555555555556,
              "#d8576b"
             ],
             [
              0.6666666666666666,
              "#ed7953"
             ],
             [
              0.7777777777777778,
              "#fb9f3a"
             ],
             [
              0.8888888888888888,
              "#fdca26"
             ],
             [
              1,
              "#f0f921"
             ]
            ],
            "type": "surface"
           }
          ],
          "table": [
           {
            "cells": {
             "fill": {
              "color": "#EBF0F8"
             },
             "line": {
              "color": "white"
             }
            },
            "header": {
             "fill": {
              "color": "#C8D4E3"
             },
             "line": {
              "color": "white"
             }
            },
            "type": "table"
           }
          ]
         },
         "layout": {
          "annotationdefaults": {
           "arrowcolor": "#2a3f5f",
           "arrowhead": 0,
           "arrowwidth": 1
          },
          "autotypenumbers": "strict",
          "coloraxis": {
           "colorbar": {
            "outlinewidth": 0,
            "ticks": ""
           }
          },
          "colorscale": {
           "diverging": [
            [
             0,
             "#8e0152"
            ],
            [
             0.1,
             "#c51b7d"
            ],
            [
             0.2,
             "#de77ae"
            ],
            [
             0.3,
             "#f1b6da"
            ],
            [
             0.4,
             "#fde0ef"
            ],
            [
             0.5,
             "#f7f7f7"
            ],
            [
             0.6,
             "#e6f5d0"
            ],
            [
             0.7,
             "#b8e186"
            ],
            [
             0.8,
             "#7fbc41"
            ],
            [
             0.9,
             "#4d9221"
            ],
            [
             1,
             "#276419"
            ]
           ],
           "sequential": [
            [
             0,
             "#0d0887"
            ],
            [
             0.1111111111111111,
             "#46039f"
            ],
            [
             0.2222222222222222,
             "#7201a8"
            ],
            [
             0.3333333333333333,
             "#9c179e"
            ],
            [
             0.4444444444444444,
             "#bd3786"
            ],
            [
             0.5555555555555556,
             "#d8576b"
            ],
            [
             0.6666666666666666,
             "#ed7953"
            ],
            [
             0.7777777777777778,
             "#fb9f3a"
            ],
            [
             0.8888888888888888,
             "#fdca26"
            ],
            [
             1,
             "#f0f921"
            ]
           ],
           "sequentialminus": [
            [
             0,
             "#0d0887"
            ],
            [
             0.1111111111111111,
             "#46039f"
            ],
            [
             0.2222222222222222,
             "#7201a8"
            ],
            [
             0.3333333333333333,
             "#9c179e"
            ],
            [
             0.4444444444444444,
             "#bd3786"
            ],
            [
             0.5555555555555556,
             "#d8576b"
            ],
            [
             0.6666666666666666,
             "#ed7953"
            ],
            [
             0.7777777777777778,
             "#fb9f3a"
            ],
            [
             0.8888888888888888,
             "#fdca26"
            ],
            [
             1,
             "#f0f921"
            ]
           ]
          },
          "colorway": [
           "#636efa",
           "#EF553B",
           "#00cc96",
           "#ab63fa",
           "#FFA15A",
           "#19d3f3",
           "#FF6692",
           "#B6E880",
           "#FF97FF",
           "#FECB52"
          ],
          "font": {
           "color": "#2a3f5f"
          },
          "geo": {
           "bgcolor": "white",
           "lakecolor": "white",
           "landcolor": "#E5ECF6",
           "showlakes": true,
           "showland": true,
           "subunitcolor": "white"
          },
          "hoverlabel": {
           "align": "left"
          },
          "hovermode": "closest",
          "mapbox": {
           "style": "light"
          },
          "paper_bgcolor": "white",
          "plot_bgcolor": "#E5ECF6",
          "polar": {
           "angularaxis": {
            "gridcolor": "white",
            "linecolor": "white",
            "ticks": ""
           },
           "bgcolor": "#E5ECF6",
           "radialaxis": {
            "gridcolor": "white",
            "linecolor": "white",
            "ticks": ""
           }
          },
          "scene": {
           "xaxis": {
            "backgroundcolor": "#E5ECF6",
            "gridcolor": "white",
            "gridwidth": 2,
            "linecolor": "white",
            "showbackground": true,
            "ticks": "",
            "zerolinecolor": "white"
           },
           "yaxis": {
            "backgroundcolor": "#E5ECF6",
            "gridcolor": "white",
            "gridwidth": 2,
            "linecolor": "white",
            "showbackground": true,
            "ticks": "",
            "zerolinecolor": "white"
           },
           "zaxis": {
            "backgroundcolor": "#E5ECF6",
            "gridcolor": "white",
            "gridwidth": 2,
            "linecolor": "white",
            "showbackground": true,
            "ticks": "",
            "zerolinecolor": "white"
           }
          },
          "shapedefaults": {
           "line": {
            "color": "#2a3f5f"
           }
          },
          "ternary": {
           "aaxis": {
            "gridcolor": "white",
            "linecolor": "white",
            "ticks": ""
           },
           "baxis": {
            "gridcolor": "white",
            "linecolor": "white",
            "ticks": ""
           },
           "bgcolor": "#E5ECF6",
           "caxis": {
            "gridcolor": "white",
            "linecolor": "white",
            "ticks": ""
           }
          },
          "title": {
           "x": 0.05
          },
          "xaxis": {
           "automargin": true,
           "gridcolor": "white",
           "linecolor": "white",
           "ticks": "",
           "title": {
            "standoff": 15
           },
           "zerolinecolor": "white",
           "zerolinewidth": 2
          },
          "yaxis": {
           "automargin": true,
           "gridcolor": "white",
           "linecolor": "white",
           "ticks": "",
           "title": {
            "standoff": 15
           },
           "zerolinecolor": "white",
           "zerolinewidth": 2
          }
         }
        },
        "title": {
         "text": "R-squared of Each Factor Explaining SPC - SPE Spread"
        },
        "xaxis": {
         "anchor": "y",
         "domain": [
          0,
          1
         ],
         "title": {
          "text": "Factor"
         }
        },
        "yaxis": {
         "anchor": "x",
         "domain": [
          0,
          1
         ],
         "tickformat": ".1%",
         "title": {
          "text": "R-squared"
         }
        }
       }
      },
      "image/png": "[encoded data removed]"
     },
     "metadata": {},
     "output_type": "display_data"
    }
   ],
   "source": [
    "fig = px.bar(\n",
    "    reg_summary,\n",
    "    x=\"Factor\",\n",
    "    y=\"R_squared\",\n",
    "    color=\"Beta\",  \n",
    "    color_continuous_scale=\"RdBu_r\", \n",
    "    text_auto=\".2f\",\n",
    "    hover_data={\n",
    "        \"Alpha\": ':.4f',\n",
    "        \"Beta\": ':.4f',\n",
    "        \"p_alpha\": ':.3f',\n",
    "        \"p_beta\": ':.3f',\n",
    "        \"R_squared\": ':.3f'\n",
    "    },\n",
    "    title=\"R-squared of Each Factor Explaining SPC - SPE Spread\"\n",
    ")\n",
    "\n",
    "fig.update_layout(\n",
    "    xaxis_title=\"Factor\",\n",
    "    yaxis_title=\"R-squared\",\n",
    "    yaxis=dict(tickformat=\".1%\"),\n",
    "    coloraxis_colorbar_title=\"Beta\",\n",
    "    hovermode=\"x unified\"\n",
    ")\n",
    "\n",
    "fig.show()"
   ]
  },
  {
   "cell_type": "code",
   "execution_count": 34,
   "id": "10cc82b1-59e0-42c1-b040-0a6bb7b25858",
   "metadata": {},
   "outputs": [
    {
     "data": {
      "image/png": "[encoded data removed]",
      "text/plain": [
       "<Figure size 800x500 with 2 Axes>"
      ]
     },
     "metadata": {},
     "output_type": "display_data"
    }
   ],
   "source": [
    "heatmap_data = reg_summary.set_index(\"Factor\")[[\"Alpha\", \"Beta\", \"R_squared\"]]\n",
    "\n",
    "plt.figure(figsize=(8, 5))\n",
    "sns.heatmap(heatmap_data, annot=True, cmap=\"RdBu_r\", center=0, fmt=\".2f\")\n",
    "plt.title(\"Heatmap of Regression Results (Alpha, Beta, R²)\")\n",
    "plt.tight_layout()\n",
    "plt.show()"
   ]
  },
  {
   "cell_type": "code",
   "execution_count": 35,
   "id": "d2513ba6-a75b-4bff-acb0-62a76acf32b6",
   "metadata": {},
   "outputs": [
    {
     "data": {
      "application/vnd.plotly.v1+json": {
       "config": {
        "plotlyServerURL": "https://plot.ly"
       },
       "data": [
        {
         "customdata": [
          [
           "SMB",
           -0.0015382689874439374
          ],
          [
           "Mom",
           -0.0015271484951782524
          ],
          [
           "HML",
           -0.0016142892575939048
          ],
          [
           "Mkt-RF",
           -0.0003928132102805643
          ],
          [
           "CMA",
           -0.001333949776566372
          ],
          [
           "RMW",
           -0.0017492719201282377
          ],
          [
           "RF",
           -0.003205349574257874
          ]
         ],
         "hovertemplate": "Beta=%{x}<br>R_squared=%{y}<br>Factor=%{customdata[0]}<br>Alpha=%{marker.color}<extra></extra>",
         "legendgroup": "",
         "marker": {
          "color": {
           "bdata": "beCVv/czWb/EgPI1UwVZv2tgVOTRclq/H1w/5E++Ob8UDY2q/dpVv9CsFGz6qFy/4Xf/8hpCar8=",
           "dtype": "f8"
          },
          "coloraxis": "coloraxis",
          "symbol": "circle"
         },
         "mode": "markers+text",
         "name": "",
         "orientation": "v",
         "showlegend": false,
         "text": [
          "SMB",
          "Mom",
          "HML",
          "Mkt-RF",
          "CMA",
          "RMW",
          "RF"
         ],
         "textposition": "top center",
         "type": "scatter",
         "x": {
          "bdata": "/yBEbtIM1r/GhQ8FmHbIP626qarwN9C/GtqGkcYWv780iiLwAzrJvyQ4gHxBab8/gQA2F4LB9j8=",
          "dtype": "f8"
         },
         "xaxis": "x",
         "y": {
          "bdata": "2kag1fbo1z/sgFUrOAnUPxhjtvZG2dI/7I5KkcG/wD94Rvq9JEmwPwAbhDUfuJc/4PEZnXZflz8=",
          "dtype": "f8"
         },
         "yaxis": "y"
        }
       ],
       "layout": {
        "coloraxis": {
         "colorbar": {
          "title": {
           "text": "Alpha"
          }
         },
         "colorscale": [
          [
           0,
           "rgb(5,48,97)"
          ],
          [
           0.1,
           "rgb(33,102,172)"
          ],
          [
           0.2,
           "rgb(67,147,195)"
          ],
          [
           0.3,
           "rgb(146,197,222)"
          ],
          [
           0.4,
           "rgb(209,229,240)"
          ],
          [
           0.5,
           "rgb(247,247,247)"
          ],
          [
           0.6,
           "rgb(253,219,199)"
          ],
          [
           0.7,
           "rgb(244,165,130)"
          ],
          [
           0.8,
           "rgb(214,96,77)"
          ],
          [
           0.9,
           "rgb(178,24,43)"
          ],
          [
           1,
           "rgb(103,0,31)"
          ]
         ]
        },
        "legend": {
         "tracegroupgap": 0
        },
        "template": {
         "data": {
          "bar": [
           {
            "error_x": {
             "color": "#2a3f5f"
            },
            "error_y": {
             "color": "#2a3f5f"
            },
            "marker": {
             "line": {
              "color": "#E5ECF6",
              "width": 0.5
             },
             "pattern": {
              "fillmode": "overlay",
              "size": 10,
              "solidity": 0.2
             }
            },
            "type": "bar"
           }
          ],
          "barpolar": [
           {
            "marker": {
             "line": {
              "color": "#E5ECF6",
              "width": 0.5
             },
             "pattern": {
              "fillmode": "overlay",
              "size": 10,
              "solidity": 0.2
             }
            },
            "type": "barpolar"
           }
          ],
          "carpet": [
           {
            "aaxis": {
             "endlinecolor": "#2a3f5f",
             "gridcolor": "white",
             "linecolor": "white",
             "minorgridcolor": "white",
             "startlinecolor": "#2a3f5f"
            },
            "baxis": {
             "endlinecolor": "#2a3f5f",
             "gridcolor": "white",
             "linecolor": "white",
             "minorgridcolor": "white",
             "startlinecolor": "#2a3f5f"
            },
            "type": "carpet"
           }
          ],
          "choropleth": [
           {
            "colorbar": {
             "outlinewidth": 0,
             "ticks": ""
            },
            "type": "choropleth"
           }
          ],
          "contour": [
           {
            "colorbar": {
             "outlinewidth": 0,
             "ticks": ""
            },
            "colorscale": [
             [
              0,
              "#0d0887"
             ],
             [
              0.1111111111111111,
              "#46039f"
             ],
             [
              0.2222222222222222,
              "#7201a8"
             ],
             [
              0.3333333333333333,
              "#9c179e"
             ],
             [
              0.4444444444444444,
              "#bd3786"
             ],
             [
              0.5555555555555556,
              "#d8576b"
             ],
             [
              0.6666666666666666,
              "#ed7953"
             ],
             [
              0.7777777777777778,
              "#fb9f3a"
             ],
             [
              0.8888888888888888,
              "#fdca26"
             ],
             [
              1,
              "#f0f921"
             ]
            ],
            "type": "contour"
           }
          ],
          "contourcarpet": [
           {
            "colorbar": {
             "outlinewidth": 0,
             "ticks": ""
            },
            "type": "contourcarpet"
           }
          ],
          "heatmap": [
           {
            "colorbar": {
             "outlinewidth": 0,
             "ticks": ""
            },
            "colorscale": [
             [
              0,
              "#0d0887"
             ],
             [
              0.1111111111111111,
              "#46039f"
             ],
             [
              0.2222222222222222,
              "#7201a8"
             ],
             [
              0.3333333333333333,
              "#9c179e"
             ],
             [
              0.4444444444444444,
              "#bd3786"
             ],
             [
              0.5555555555555556,
              "#d8576b"
             ],
             [
              0.6666666666666666,
              "#ed7953"
             ],
             [
              0.7777777777777778,
              "#fb9f3a"
             ],
             [
              0.8888888888888888,
              "#fdca26"
             ],
             [
              1,
              "#f0f921"
             ]
            ],
            "type": "heatmap"
           }
          ],
          "histogram": [
           {
            "marker": {
             "pattern": {
              "fillmode": "overlay",
              "size": 10,
              "solidity": 0.2
             }
            },
            "type": "histogram"
           }
          ],
          "histogram2d": [
           {
            "colorbar": {
             "outlinewidth": 0,
             "ticks": ""
            },
            "colorscale": [
             [
              0,
              "#0d0887"
             ],
             [
              0.1111111111111111,
              "#46039f"
             ],
             [
              0.2222222222222222,
              "#7201a8"
             ],
             [
              0.3333333333333333,
              "#9c179e"
             ],
             [
              0.4444444444444444,
              "#bd3786"
             ],
             [
              0.5555555555555556,
              "#d8576b"
             ],
             [
              0.6666666666666666,
              "#ed7953"
             ],
             [
              0.7777777777777778,
              "#fb9f3a"
             ],
             [
              0.8888888888888888,
              "#fdca26"
             ],
             [
              1,
              "#f0f921"
             ]
            ],
            "type": "histogram2d"
           }
          ],
          "histogram2dcontour": [
           {
            "colorbar": {
             "outlinewidth": 0,
             "ticks": ""
            },
            "colorscale": [
             [
              0,
              "#0d0887"
             ],
             [
              0.1111111111111111,
              "#46039f"
             ],
             [
              0.2222222222222222,
              "#7201a8"
             ],
             [
              0.3333333333333333,
              "#9c179e"
             ],
             [
              0.4444444444444444,
              "#bd3786"
             ],
             [
              0.5555555555555556,
              "#d8576b"
             ],
             [
              0.6666666666666666,
              "#ed7953"
             ],
             [
              0.7777777777777778,
              "#fb9f3a"
             ],
             [
              0.8888888888888888,
              "#fdca26"
             ],
             [
              1,
              "#f0f921"
             ]
            ],
            "type": "histogram2dcontour"
           }
          ],
          "mesh3d": [
           {
            "colorbar": {
             "outlinewidth": 0,
             "ticks": ""
            },
            "type": "mesh3d"
           }
          ],
          "parcoords": [
           {
            "line": {
             "colorbar": {
              "outlinewidth": 0,
              "ticks": ""
             }
            },
            "type": "parcoords"
           }
          ],
          "pie": [
           {
            "automargin": true,
            "type": "pie"
           }
          ],
          "scatter": [
           {
            "fillpattern": {
             "fillmode": "overlay",
             "size": 10,
             "solidity": 0.2
            },
            "type": "scatter"
           }
          ],
          "scatter3d": [
           {
            "line": {
             "colorbar": {
              "outlinewidth": 0,
              "ticks": ""
             }
            },
            "marker": {
             "colorbar": {
              "outlinewidth": 0,
              "ticks": ""
             }
            },
            "type": "scatter3d"
           }
          ],
          "scattercarpet": [
           {
            "marker": {
             "colorbar": {
              "outlinewidth": 0,
              "ticks": ""
             }
            },
            "type": "scattercarpet"
           }
          ],
          "scattergeo": [
           {
            "marker": {
             "colorbar": {
              "outlinewidth": 0,
              "ticks": ""
             }
            },
            "type": "scattergeo"
           }
          ],
          "scattergl": [
           {
            "marker": {
             "colorbar": {
              "outlinewidth": 0,
              "ticks": ""
             }
            },
            "type": "scattergl"
           }
          ],
          "scattermap": [
           {
            "marker": {
             "colorbar": {
              "outlinewidth": 0,
              "ticks": ""
             }
            },
            "type": "scattermap"
           }
          ],
          "scattermapbox": [
           {
            "marker": {
             "colorbar": {
              "outlinewidth": 0,
              "ticks": ""
             }
            },
            "type": "scattermapbox"
           }
          ],
          "scatterpolar": [
           {
            "marker": {
             "colorbar": {
              "outlinewidth": 0,
              "ticks": ""
             }
            },
            "type": "scatterpolar"
           }
          ],
          "scatterpolargl": [
           {
            "marker": {
             "colorbar": {
              "outlinewidth": 0,
              "ticks": ""
             }
            },
            "type": "scatterpolargl"
           }
          ],
          "scatterternary": [
           {
            "marker": {
             "colorbar": {
              "outlinewidth": 0,
              "ticks": ""
             }
            },
            "type": "scatterternary"
           }
          ],
          "surface": [
           {
            "colorbar": {
             "outlinewidth": 0,
             "ticks": ""
            },
            "colorscale": [
             [
              0,
              "#0d0887"
             ],
             [
              0.1111111111111111,
              "#46039f"
             ],
             [
              0.2222222222222222,
              "#7201a8"
             ],
             [
              0.3333333333333333,
              "#9c179e"
             ],
             [
              0.4444444444444444,
              "#bd3786"
             ],
             [
              0.5555555555555556,
              "#d8576b"
             ],
             [
              0.6666666666666666,
              "#ed7953"
             ],
             [
              0.7777777777777778,
              "#fb9f3a"
             ],
             [
              0.8888888888888888,
              "#fdca26"
             ],
             [
              1,
              "#f0f921"
             ]
            ],
            "type": "surface"
           }
          ],
          "table": [
           {
            "cells": {
             "fill": {
              "color": "#EBF0F8"
             },
             "line": {
              "color": "white"
             }
            },
            "header": {
             "fill": {
              "color": "#C8D4E3"
             },
             "line": {
              "color": "white"
             }
            },
            "type": "table"
           }
          ]
         },
         "layout": {
          "annotationdefaults": {
           "arrowcolor": "#2a3f5f",
           "arrowhead": 0,
           "arrowwidth": 1
          },
          "autotypenumbers": "strict",
          "coloraxis": {
           "colorbar": {
            "outlinewidth": 0,
            "ticks": ""
           }
          },
          "colorscale": {
           "diverging": [
            [
             0,
             "#8e0152"
            ],
            [
             0.1,
             "#c51b7d"
            ],
            [
             0.2,
             "#de77ae"
            ],
            [
             0.3,
             "#f1b6da"
            ],
            [
             0.4,
             "#fde0ef"
            ],
            [
             0.5,
             "#f7f7f7"
            ],
            [
             0.6,
             "#e6f5d0"
            ],
            [
             0.7,
             "#b8e186"
            ],
            [
             0.8,
             "#7fbc41"
            ],
            [
             0.9,
             "#4d9221"
            ],
            [
             1,
             "#276419"
            ]
           ],
           "sequential": [
            [
             0,
             "#0d0887"
            ],
            [
             0.1111111111111111,
             "#46039f"
            ],
            [
             0.2222222222222222,
             "#7201a8"
            ],
            [
             0.3333333333333333,
             "#9c179e"
            ],
            [
             0.4444444444444444,
             "#bd3786"
            ],
            [
             0.5555555555555556,
             "#d8576b"
            ],
            [
             0.6666666666666666,
             "#ed7953"
            ],
            [
             0.7777777777777778,
             "#fb9f3a"
            ],
            [
             0.8888888888888888,
             "#fdca26"
            ],
            [
             1,
             "#f0f921"
            ]
           ],
           "sequentialminus": [
            [
             0,
             "#0d0887"
            ],
            [
             0.1111111111111111,
             "#46039f"
            ],
            [
             0.2222222222222222,
             "#7201a8"
            ],
            [
             0.3333333333333333,
             "#9c179e"
            ],
            [
             0.4444444444444444,
             "#bd3786"
            ],
            [
             0.5555555555555556,
             "#d8576b"
            ],
            [
             0.6666666666666666,
             "#ed7953"
            ],
            [
             0.7777777777777778,
             "#fb9f3a"
            ],
            [
             0.8888888888888888,
             "#fdca26"
            ],
            [
             1,
             "#f0f921"
            ]
           ]
          },
          "colorway": [
           "#636efa",
           "#EF553B",
           "#00cc96",
           "#ab63fa",
           "#FFA15A",
           "#19d3f3",
           "#FF6692",
           "#B6E880",
           "#FF97FF",
           "#FECB52"
          ],
          "font": {
           "color": "#2a3f5f"
          },
          "geo": {
           "bgcolor": "white",
           "lakecolor": "white",
           "landcolor": "#E5ECF6",
           "showlakes": true,
           "showland": true,
           "subunitcolor": "white"
          },
          "hoverlabel": {
           "align": "left"
          },
          "hovermode": "closest",
          "mapbox": {
           "style": "light"
          },
          "paper_bgcolor": "white",
          "plot_bgcolor": "#E5ECF6",
          "polar": {
           "angularaxis": {
            "gridcolor": "white",
            "linecolor": "white",
            "ticks": ""
           },
           "bgcolor": "#E5ECF6",
           "radialaxis": {
            "gridcolor": "white",
            "linecolor": "white",
            "ticks": ""
           }
          },
          "scene": {
           "xaxis": {
            "backgroundcolor": "#E5ECF6",
            "gridcolor": "white",
            "gridwidth": 2,
            "linecolor": "white",
            "showbackground": true,
            "ticks": "",
            "zerolinecolor": "white"
           },
           "yaxis": {
            "backgroundcolor": "#E5ECF6",
            "gridcolor": "white",
            "gridwidth": 2,
            "linecolor": "white",
            "showbackground": true,
            "ticks": "",
            "zerolinecolor": "white"
           },
           "zaxis": {
            "backgroundcolor": "#E5ECF6",
            "gridcolor": "white",
            "gridwidth": 2,
            "linecolor": "white",
            "showbackground": true,
            "ticks": "",
            "zerolinecolor": "white"
           }
          },
          "shapedefaults": {
           "line": {
            "color": "#2a3f5f"
           }
          },
          "ternary": {
           "aaxis": {
            "gridcolor": "white",
            "linecolor": "white",
            "ticks": ""
           },
           "baxis": {
            "gridcolor": "white",
            "linecolor": "white",
            "ticks": ""
           },
           "bgcolor": "#E5ECF6",
           "caxis": {
            "gridcolor": "white",
            "linecolor": "white",
            "ticks": ""
           }
          },
          "title": {
           "x": 0.05
          },
          "xaxis": {
           "automargin": true,
           "gridcolor": "white",
           "linecolor": "white",
           "ticks": "",
           "title": {
            "standoff": 15
           },
           "zerolinecolor": "white",
           "zerolinewidth": 2
          },
          "yaxis": {
           "automargin": true,
           "gridcolor": "white",
           "linecolor": "white",
           "ticks": "",
           "title": {
            "standoff": 15
           },
           "zerolinecolor": "white",
           "zerolinewidth": 2
          }
         }
        },
        "title": {
         "text": "Factor Beta vs. R-squared (Color = Alpha)"
        },
        "xaxis": {
         "anchor": "y",
         "domain": [
          0,
          1
         ],
         "title": {
          "text": "Beta"
         }
        },
        "yaxis": {
         "anchor": "x",
         "domain": [
          0,
          1
         ],
         "title": {
          "text": "R-squared"
         }
        }
       }
      },
      "image/png": "[encoded data removed]"
     },
     "metadata": {},
     "output_type": "display_data"
    }
   ],
   "source": [
    "fig = px.scatter(\n",
    "    reg_summary,\n",
    "    x=\"Beta\",\n",
    "    y=\"R_squared\",\n",
    "    color=\"Alpha\",\n",
    "    text=\"Factor\",\n",
    "    color_continuous_scale=\"RdBu_r\",\n",
    "    title=\"Factor Beta vs. R-squared (Color = Alpha)\",\n",
    "    hover_data=[\"Factor\", \"Alpha\", \"Beta\", \"R_squared\"]\n",
    ")\n",
    "fig.update_traces(textposition='top center')\n",
    "fig.update_layout(xaxis_title=\"Beta\", yaxis_title=\"R-squared\")\n",
    "fig.show()"
   ]
  },
  {
   "cell_type": "code",
   "execution_count": 36,
   "id": "1c23f8ee-5527-4f7c-b897-f6afdbbe0bc4",
   "metadata": {},
   "outputs": [
    {
     "data": {
      "application/vnd.plotly.v1+json": {
       "config": {
        "plotlyServerURL": "https://plot.ly"
       },
       "data": [
        {
         "hovertemplate": "Factor=%{x}<br>Sortino_Ratio=%{marker.color}<extra></extra>",
         "legendgroup": "",
         "marker": {
          "color": {
           "bdata": "SNMQZR0sx79+fHPU0fHKv86fE3Z10cS/hsmfbe5Jo79yXbox3WG+v+UPhOr2WcO/DXHQXbFF0r8=",
           "dtype": "f8"
          },
          "coloraxis": "coloraxis",
          "pattern": {
           "shape": ""
          }
         },
         "name": "",
         "orientation": "v",
         "showlegend": false,
         "textposition": "auto",
         "type": "bar",
         "x": [
          "SMB",
          "Mom",
          "HML",
          "Mkt-RF",
          "CMA",
          "RMW",
          "RF"
         ],
         "xaxis": "x",
         "y": {
          "bdata": "SNMQZR0sx79+fHPU0fHKv86fE3Z10cS/hsmfbe5Jo79yXbox3WG+v+UPhOr2WcO/DXHQXbFF0r8=",
          "dtype": "f8"
         },
         "yaxis": "y"
        }
       ],
       "layout": {
        "barmode": "relative",
        "coloraxis": {
         "colorbar": {
          "title": {
           "text": "Sortino"
          }
         },
         "colorscale": [
          [
           0,
           "rgb(5,48,97)"
          ],
          [
           0.1,
           "rgb(33,102,172)"
          ],
          [
           0.2,
           "rgb(67,147,195)"
          ],
          [
           0.3,
           "rgb(146,197,222)"
          ],
          [
           0.4,
           "rgb(209,229,240)"
          ],
          [
           0.5,
           "rgb(247,247,247)"
          ],
          [
           0.6,
           "rgb(253,219,199)"
          ],
          [
           0.7,
           "rgb(244,165,130)"
          ],
          [
           0.8,
           "rgb(214,96,77)"
          ],
          [
           0.9,
           "rgb(178,24,43)"
          ],
          [
           1,
           "rgb(103,0,31)"
          ]
         ]
        },
        "legend": {
         "tracegroupgap": 0
        },
        "template": {
         "data": {
          "bar": [
           {
            "error_x": {
             "color": "#2a3f5f"
            },
            "error_y": {
             "color": "#2a3f5f"
            },
            "marker": {
             "line": {
              "color": "#E5ECF6",
              "width": 0.5
             },
             "pattern": {
              "fillmode": "overlay",
              "size": 10,
              "solidity": 0.2
             }
            },
            "type": "bar"
           }
          ],
          "barpolar": [
           {
            "marker": {
             "line": {
              "color": "#E5ECF6",
              "width": 0.5
             },
             "pattern": {
              "fillmode": "overlay",
              "size": 10,
              "solidity": 0.2
             }
            },
            "type": "barpolar"
           }
          ],
          "carpet": [
           {
            "aaxis": {
             "endlinecolor": "#2a3f5f",
             "gridcolor": "white",
             "linecolor": "white",
             "minorgridcolor": "white",
             "startlinecolor": "#2a3f5f"
            },
            "baxis": {
             "endlinecolor": "#2a3f5f",
             "gridcolor": "white",
             "linecolor": "white",
             "minorgridcolor": "white",
             "startlinecolor": "#2a3f5f"
            },
            "type": "carpet"
           }
          ],
          "choropleth": [
           {
            "colorbar": {
             "outlinewidth": 0,
             "ticks": ""
            },
            "type": "choropleth"
           }
          ],
          "contour": [
           {
            "colorbar": {
             "outlinewidth": 0,
             "ticks": ""
            },
            "colorscale": [
             [
              0,
              "#0d0887"
             ],
             [
              0.1111111111111111,
              "#46039f"
             ],
             [
              0.2222222222222222,
              "#7201a8"
             ],
             [
              0.3333333333333333,
              "#9c179e"
             ],
             [
              0.4444444444444444,
              "#bd3786"
             ],
             [
              0.5555555555555556,
              "#d8576b"
             ],
             [
              0.6666666666666666,
              "#ed7953"
             ],
             [
              0.7777777777777778,
              "#fb9f3a"
             ],
             [
              0.8888888888888888,
              "#fdca26"
             ],
             [
              1,
              "#f0f921"
             ]
            ],
            "type": "contour"
           }
          ],
          "contourcarpet": [
           {
            "colorbar": {
             "outlinewidth": 0,
             "ticks": ""
            },
            "type": "contourcarpet"
           }
          ],
          "heatmap": [
           {
            "colorbar": {
             "outlinewidth": 0,
             "ticks": ""
            },
            "colorscale": [
             [
              0,
              "#0d0887"
             ],
             [
              0.1111111111111111,
              "#46039f"
             ],
             [
              0.2222222222222222,
              "#7201a8"
             ],
             [
              0.3333333333333333,
              "#9c179e"
             ],
             [
              0.4444444444444444,
              "#bd3786"
             ],
             [
              0.5555555555555556,
              "#d8576b"
             ],
             [
              0.6666666666666666,
              "#ed7953"
             ],
             [
              0.7777777777777778,
              "#fb9f3a"
             ],
             [
              0.8888888888888888,
              "#fdca26"
             ],
             [
              1,
              "#f0f921"
             ]
            ],
            "type": "heatmap"
           }
          ],
          "histogram": [
           {
            "marker": {
             "pattern": {
              "fillmode": "overlay",
              "size": 10,
              "solidity": 0.2
             }
            },
            "type": "histogram"
           }
          ],
          "histogram2d": [
           {
            "colorbar": {
             "outlinewidth": 0,
             "ticks": ""
            },
            "colorscale": [
             [
              0,
              "#0d0887"
             ],
             [
              0.1111111111111111,
              "#46039f"
             ],
             [
              0.2222222222222222,
              "#7201a8"
             ],
             [
              0.3333333333333333,
              "#9c179e"
             ],
             [
              0.4444444444444444,
              "#bd3786"
             ],
             [
              0.5555555555555556,
              "#d8576b"
             ],
             [
              0.6666666666666666,
              "#ed7953"
             ],
             [
              0.7777777777777778,
              "#fb9f3a"
             ],
             [
              0.8888888888888888,
              "#fdca26"
             ],
             [
              1,
              "#f0f921"
             ]
            ],
            "type": "histogram2d"
           }
          ],
          "histogram2dcontour": [
           {
            "colorbar": {
             "outlinewidth": 0,
             "ticks": ""
            },
            "colorscale": [
             [
              0,
              "#0d0887"
             ],
             [
              0.1111111111111111,
              "#46039f"
             ],
             [
              0.2222222222222222,
              "#7201a8"
             ],
             [
              0.3333333333333333,
              "#9c179e"
             ],
             [
              0.4444444444444444,
              "#bd3786"
             ],
             [
              0.5555555555555556,
              "#d8576b"
             ],
             [
              0.6666666666666666,
              "#ed7953"
             ],
             [
              0.7777777777777778,
              "#fb9f3a"
             ],
             [
              0.8888888888888888,
              "#fdca26"
             ],
             [
              1,
              "#f0f921"
             ]
            ],
            "type": "histogram2dcontour"
           }
          ],
          "mesh3d": [
           {
            "colorbar": {
             "outlinewidth": 0,
             "ticks": ""
            },
            "type": "mesh3d"
           }
          ],
          "parcoords": [
           {
            "line": {
             "colorbar": {
              "outlinewidth": 0,
              "ticks": ""
             }
            },
            "type": "parcoords"
           }
          ],
          "pie": [
           {
            "automargin": true,
            "type": "pie"
           }
          ],
          "scatter": [
           {
            "fillpattern": {
             "fillmode": "overlay",
             "size": 10,
             "solidity": 0.2
            },
            "type": "scatter"
           }
          ],
          "scatter3d": [
           {
            "line": {
             "colorbar": {
              "outlinewidth": 0,
              "ticks": ""
             }
            },
            "marker": {
             "colorbar": {
              "outlinewidth": 0,
              "ticks": ""
             }
            },
            "type": "scatter3d"
           }
          ],
          "scattercarpet": [
           {
            "marker": {
             "colorbar": {
              "outlinewidth": 0,
              "ticks": ""
             }
            },
            "type": "scattercarpet"
           }
          ],
          "scattergeo": [
           {
            "marker": {
             "colorbar": {
              "outlinewidth": 0,
              "ticks": ""
             }
            },
            "type": "scattergeo"
           }
          ],
          "scattergl": [
           {
            "marker": {
             "colorbar": {
              "outlinewidth": 0,
              "ticks": ""
             }
            },
            "type": "scattergl"
           }
          ],
          "scattermap": [
           {
            "marker": {
             "colorbar": {
              "outlinewidth": 0,
              "ticks": ""
             }
            },
            "type": "scattermap"
           }
          ],
          "scattermapbox": [
           {
            "marker": {
             "colorbar": {
              "outlinewidth": 0,
              "ticks": ""
             }
            },
            "type": "scattermapbox"
           }
          ],
          "scatterpolar": [
           {
            "marker": {
             "colorbar": {
              "outlinewidth": 0,
              "ticks": ""
             }
            },
            "type": "scatterpolar"
           }
          ],
          "scatterpolargl": [
           {
            "marker": {
             "colorbar": {
              "outlinewidth": 0,
              "ticks": ""
             }
            },
            "type": "scatterpolargl"
           }
          ],
          "scatterternary": [
           {
            "marker": {
             "colorbar": {
              "outlinewidth": 0,
              "ticks": ""
             }
            },
            "type": "scatterternary"
           }
          ],
          "surface": [
           {
            "colorbar": {
             "outlinewidth": 0,
             "ticks": ""
            },
            "colorscale": [
             [
              0,
              "#0d0887"
             ],
             [
              0.1111111111111111,
              "#46039f"
             ],
             [
              0.2222222222222222,
              "#7201a8"
             ],
             [
              0.3333333333333333,
              "#9c179e"
             ],
             [
              0.4444444444444444,
              "#bd3786"
             ],
             [
              0.5555555555555556,
              "#d8576b"
             ],
             [
              0.6666666666666666,
              "#ed7953"
             ],
             [
              0.7777777777777778,
              "#fb9f3a"
             ],
             [
              0.8888888888888888,
              "#fdca26"
             ],
             [
              1,
              "#f0f921"
             ]
            ],
            "type": "surface"
           }
          ],
          "table": [
           {
            "cells": {
             "fill": {
              "color": "#EBF0F8"
             },
             "line": {
              "color": "white"
             }
            },
            "header": {
             "fill": {
              "color": "#C8D4E3"
             },
             "line": {
              "color": "white"
             }
            },
            "type": "table"
           }
          ]
         },
         "layout": {
          "annotationdefaults": {
           "arrowcolor": "#2a3f5f",
           "arrowhead": 0,
           "arrowwidth": 1
          },
          "autotypenumbers": "strict",
          "coloraxis": {
           "colorbar": {
            "outlinewidth": 0,
            "ticks": ""
           }
          },
          "colorscale": {
           "diverging": [
            [
             0,
             "#8e0152"
            ],
            [
             0.1,
             "#c51b7d"
            ],
            [
             0.2,
             "#de77ae"
            ],
            [
             0.3,
             "#f1b6da"
            ],
            [
             0.4,
             "#fde0ef"
            ],
            [
             0.5,
             "#f7f7f7"
            ],
            [
             0.6,
             "#e6f5d0"
            ],
            [
             0.7,
             "#b8e186"
            ],
            [
             0.8,
             "#7fbc41"
            ],
            [
             0.9,
             "#4d9221"
            ],
            [
             1,
             "#276419"
            ]
           ],
           "sequential": [
            [
             0,
             "#0d0887"
            ],
            [
             0.1111111111111111,
             "#46039f"
            ],
            [
             0.2222222222222222,
             "#7201a8"
            ],
            [
             0.3333333333333333,
             "#9c179e"
            ],
            [
             0.4444444444444444,
             "#bd3786"
            ],
            [
             0.5555555555555556,
             "#d8576b"
            ],
            [
             0.6666666666666666,
             "#ed7953"
            ],
            [
             0.7777777777777778,
             "#fb9f3a"
            ],
            [
             0.8888888888888888,
             "#fdca26"
            ],
            [
             1,
             "#f0f921"
            ]
           ],
           "sequentialminus": [
            [
             0,
             "#0d0887"
            ],
            [
             0.1111111111111111,
             "#46039f"
            ],
            [
             0.2222222222222222,
             "#7201a8"
            ],
            [
             0.3333333333333333,
             "#9c179e"
            ],
            [
             0.4444444444444444,
             "#bd3786"
            ],
            [
             0.5555555555555556,
             "#d8576b"
            ],
            [
             0.6666666666666666,
             "#ed7953"
            ],
            [
             0.7777777777777778,
             "#fb9f3a"
            ],
            [
             0.8888888888888888,
             "#fdca26"
            ],
            [
             1,
             "#f0f921"
            ]
           ]
          },
          "colorway": [
           "#636efa",
           "#EF553B",
           "#00cc96",
           "#ab63fa",
           "#FFA15A",
           "#19d3f3",
           "#FF6692",
           "#B6E880",
           "#FF97FF",
           "#FECB52"
          ],
          "font": {
           "color": "#2a3f5f"
          },
          "geo": {
           "bgcolor": "white",
           "lakecolor": "white",
           "landcolor": "#E5ECF6",
           "showlakes": true,
           "showland": true,
           "subunitcolor": "white"
          },
          "hoverlabel": {
           "align": "left"
          },
          "hovermode": "closest",
          "mapbox": {
           "style": "light"
          },
          "paper_bgcolor": "white",
          "plot_bgcolor": "#E5ECF6",
          "polar": {
           "angularaxis": {
            "gridcolor": "white",
            "linecolor": "white",
            "ticks": ""
           },
           "bgcolor": "#E5ECF6",
           "radialaxis": {
            "gridcolor": "white",
            "linecolor": "white",
            "ticks": ""
           }
          },
          "scene": {
           "xaxis": {
            "backgroundcolor": "#E5ECF6",
            "gridcolor": "white",
            "gridwidth": 2,
            "linecolor": "white",
            "showbackground": true,
            "ticks": "",
            "zerolinecolor": "white"
           },
           "yaxis": {
            "backgroundcolor": "#E5ECF6",
            "gridcolor": "white",
            "gridwidth": 2,
            "linecolor": "white",
            "showbackground": true,
            "ticks": "",
            "zerolinecolor": "white"
           },
           "zaxis": {
            "backgroundcolor": "#E5ECF6",
            "gridcolor": "white",
            "gridwidth": 2,
            "linecolor": "white",
            "showbackground": true,
            "ticks": "",
            "zerolinecolor": "white"
           }
          },
          "shapedefaults": {
           "line": {
            "color": "#2a3f5f"
           }
          },
          "ternary": {
           "aaxis": {
            "gridcolor": "white",
            "linecolor": "white",
            "ticks": ""
           },
           "baxis": {
            "gridcolor": "white",
            "linecolor": "white",
            "ticks": ""
           },
           "bgcolor": "#E5ECF6",
           "caxis": {
            "gridcolor": "white",
            "linecolor": "white",
            "ticks": ""
           }
          },
          "title": {
           "x": 0.05
          },
          "xaxis": {
           "automargin": true,
           "gridcolor": "white",
           "linecolor": "white",
           "ticks": "",
           "title": {
            "standoff": 15
           },
           "zerolinecolor": "white",
           "zerolinewidth": 2
          },
          "yaxis": {
           "automargin": true,
           "gridcolor": "white",
           "linecolor": "white",
           "ticks": "",
           "title": {
            "standoff": 15
           },
           "zerolinecolor": "white",
           "zerolinewidth": 2
          }
         }
        },
        "title": {
         "text": "Sortino Ratio (Alpha / Semi-Deviation)"
        },
        "xaxis": {
         "anchor": "y",
         "domain": [
          0,
          1
         ],
         "title": {
          "text": "Factor"
         }
        },
        "yaxis": {
         "anchor": "x",
         "domain": [
          0,
          1
         ],
         "title": {
          "text": "Sortino Ratio"
         }
        }
       }
      },
      "image/png": "[encoded data removed]"
     },
     "metadata": {},
     "output_type": "display_data"
    }
   ],
   "source": [
    "fig_bar = px.bar(\n",
    "    reg_summary,\n",
    "    x=\"Factor\",\n",
    "    y=\"Sortino_Ratio\",\n",
    "    color=\"Sortino_Ratio\",\n",
    "    color_continuous_scale=\"RdBu_r\",\n",
    "    title=\"Sortino Ratio (Alpha / Semi-Deviation)\"\n",
    ")\n",
    "fig_bar.update_layout(yaxis_title=\"Sortino Ratio\", coloraxis_colorbar_title=\"Sortino\")\n",
    "fig_bar.show()\n"
   ]
  },
  {
   "cell_type": "code",
   "execution_count": 37,
   "id": "47330d7b-1ef1-4984-aad7-c09fc4ad01c3",
   "metadata": {},
   "outputs": [
    {
     "data": {
      "application/vnd.plotly.v1+json": {
       "config": {
        "plotlyServerURL": "https://plot.ly"
       },
       "data": [
        {
         "customdata": {
          "bdata": "/yBEbtIM1r/aRqDV9ujXP1/o8Y3yZoE/xoUPBZh2yD/sgFUrOAnUPy8AKU0at30/rbqpqvA30L8YY7b2RtnSP4vzJyLFU4Q/GtqGkcYWv7/sjkqRwb/AP7swJyWlWoU/NIoi8AM6yb94Rvq9JEmwP1Bs0BTmBIc/JDiAfEFpvz8AG4Q1H7iXP3HWuTxOsoc/gQA2F4LB9j/g8Rmddl+XP3dbuiQu/oY/",
          "dtype": "f8",
          "shape": "7, 3"
         },
         "hovertemplate": "Alpha=%{x}<br>Sortino_Ratio=%{marker.color}<br>Factor=%{text}<br>Beta=%{customdata[0]}<br>R_squared=%{customdata[1]}<br>Semi_Deviation=%{customdata[2]}<extra></extra>",
         "legendgroup": "",
         "marker": {
          "color": {
           "bdata": "SNMQZR0sx79+fHPU0fHKv86fE3Z10cS/hsmfbe5Jo79yXbox3WG+v+UPhOr2WcO/DXHQXbFF0r8=",
           "dtype": "f8"
          },
          "coloraxis": "coloraxis",
          "symbol": "circle"
         },
         "mode": "markers+text",
         "name": "",
         "orientation": "v",
         "showlegend": false,
         "text": [
          "SMB",
          "Mom",
          "HML",
          "Mkt-RF",
          "CMA",
          "RMW",
          "RF"
         ],
         "textposition": "top center",
         "type": "scatter",
         "x": {
          "bdata": "beCVv/czWb/EgPI1UwVZv2tgVOTRclq/H1w/5E++Ob8UDY2q/dpVv9CsFGz6qFy/4Xf/8hpCar8=",
          "dtype": "f8"
         },
         "xaxis": "x",
         "y": {
          "bdata": "SNMQZR0sx79+fHPU0fHKv86fE3Z10cS/hsmfbe5Jo79yXbox3WG+v+UPhOr2WcO/DXHQXbFF0r8=",
          "dtype": "f8"
         },
         "yaxis": "y"
        }
       ],
       "layout": {
        "coloraxis": {
         "colorbar": {
          "title": {
           "text": "Sortino_Ratio"
          }
         },
         "colorscale": [
          [
           0,
           "rgb(5,48,97)"
          ],
          [
           0.1,
           "rgb(33,102,172)"
          ],
          [
           0.2,
           "rgb(67,147,195)"
          ],
          [
           0.3,
           "rgb(146,197,222)"
          ],
          [
           0.4,
           "rgb(209,229,240)"
          ],
          [
           0.5,
           "rgb(247,247,247)"
          ],
          [
           0.6,
           "rgb(253,219,199)"
          ],
          [
           0.7,
           "rgb(244,165,130)"
          ],
          [
           0.8,
           "rgb(214,96,77)"
          ],
          [
           0.9,
           "rgb(178,24,43)"
          ],
          [
           1,
           "rgb(103,0,31)"
          ]
         ]
        },
        "legend": {
         "tracegroupgap": 0
        },
        "template": {
         "data": {
          "bar": [
           {
            "error_x": {
             "color": "#2a3f5f"
            },
            "error_y": {
             "color": "#2a3f5f"
            },
            "marker": {
             "line": {
              "color": "#E5ECF6",
              "width": 0.5
             },
             "pattern": {
              "fillmode": "overlay",
              "size": 10,
              "solidity": 0.2
             }
            },
            "type": "bar"
           }
          ],
          "barpolar": [
           {
            "marker": {
             "line": {
              "color": "#E5ECF6",
              "width": 0.5
             },
             "pattern": {
              "fillmode": "overlay",
              "size": 10,
              "solidity": 0.2
             }
            },
            "type": "barpolar"
           }
          ],
          "carpet": [
           {
            "aaxis": {
             "endlinecolor": "#2a3f5f",
             "gridcolor": "white",
             "linecolor": "white",
             "minorgridcolor": "white",
             "startlinecolor": "#2a3f5f"
            },
            "baxis": {
             "endlinecolor": "#2a3f5f",
             "gridcolor": "white",
             "linecolor": "white",
             "minorgridcolor": "white",
             "startlinecolor": "#2a3f5f"
            },
            "type": "carpet"
           }
          ],
          "choropleth": [
           {
            "colorbar": {
             "outlinewidth": 0,
             "ticks": ""
            },
            "type": "choropleth"
           }
          ],
          "contour": [
           {
            "colorbar": {
             "outlinewidth": 0,
             "ticks": ""
            },
            "colorscale": [
             [
              0,
              "#0d0887"
             ],
             [
              0.1111111111111111,
              "#46039f"
             ],
             [
              0.2222222222222222,
              "#7201a8"
             ],
             [
              0.3333333333333333,
              "#9c179e"
             ],
             [
              0.4444444444444444,
              "#bd3786"
             ],
             [
              0.5555555555555556,
              "#d8576b"
             ],
             [
              0.6666666666666666,
              "#ed7953"
             ],
             [
              0.7777777777777778,
              "#fb9f3a"
             ],
             [
              0.8888888888888888,
              "#fdca26"
             ],
             [
              1,
              "#f0f921"
             ]
            ],
            "type": "contour"
           }
          ],
          "contourcarpet": [
           {
            "colorbar": {
             "outlinewidth": 0,
             "ticks": ""
            },
            "type": "contourcarpet"
           }
          ],
          "heatmap": [
           {
            "colorbar": {
             "outlinewidth": 0,
             "ticks": ""
            },
            "colorscale": [
             [
              0,
              "#0d0887"
             ],
             [
              0.1111111111111111,
              "#46039f"
             ],
             [
              0.2222222222222222,
              "#7201a8"
             ],
             [
              0.3333333333333333,
              "#9c179e"
             ],
             [
              0.4444444444444444,
              "#bd3786"
             ],
             [
              0.5555555555555556,
              "#d8576b"
             ],
             [
              0.6666666666666666,
              "#ed7953"
             ],
             [
              0.7777777777777778,
              "#fb9f3a"
             ],
             [
              0.8888888888888888,
              "#fdca26"
             ],
             [
              1,
              "#f0f921"
             ]
            ],
            "type": "heatmap"
           }
          ],
          "histogram": [
           {
            "marker": {
             "pattern": {
              "fillmode": "overlay",
              "size": 10,
              "solidity": 0.2
             }
            },
            "type": "histogram"
           }
          ],
          "histogram2d": [
           {
            "colorbar": {
             "outlinewidth": 0,
             "ticks": ""
            },
            "colorscale": [
             [
              0,
              "#0d0887"
             ],
             [
              0.1111111111111111,
              "#46039f"
             ],
             [
              0.2222222222222222,
              "#7201a8"
             ],
             [
              0.3333333333333333,
              "#9c179e"
             ],
             [
              0.4444444444444444,
              "#bd3786"
             ],
             [
              0.5555555555555556,
              "#d8576b"
             ],
             [
              0.6666666666666666,
              "#ed7953"
             ],
             [
              0.7777777777777778,
              "#fb9f3a"
             ],
             [
              0.8888888888888888,
              "#fdca26"
             ],
             [
              1,
              "#f0f921"
             ]
            ],
            "type": "histogram2d"
           }
          ],
          "histogram2dcontour": [
           {
            "colorbar": {
             "outlinewidth": 0,
             "ticks": ""
            },
            "colorscale": [
             [
              0,
              "#0d0887"
             ],
             [
              0.1111111111111111,
              "#46039f"
             ],
             [
              0.2222222222222222,
              "#7201a8"
             ],
             [
              0.3333333333333333,
              "#9c179e"
             ],
             [
              0.4444444444444444,
              "#bd3786"
             ],
             [
              0.5555555555555556,
              "#d8576b"
             ],
             [
              0.6666666666666666,
              "#ed7953"
             ],
             [
              0.7777777777777778,
              "#fb9f3a"
             ],
             [
              0.8888888888888888,
              "#fdca26"
             ],
             [
              1,
              "#f0f921"
             ]
            ],
            "type": "histogram2dcontour"
           }
          ],
          "mesh3d": [
           {
            "colorbar": {
             "outlinewidth": 0,
             "ticks": ""
            },
            "type": "mesh3d"
           }
          ],
          "parcoords": [
           {
            "line": {
             "colorbar": {
              "outlinewidth": 0,
              "ticks": ""
             }
            },
            "type": "parcoords"
           }
          ],
          "pie": [
           {
            "automargin": true,
            "type": "pie"
           }
          ],
          "scatter": [
           {
            "fillpattern": {
             "fillmode": "overlay",
             "size": 10,
             "solidity": 0.2
            },
            "type": "scatter"
           }
          ],
          "scatter3d": [
           {
            "line": {
             "colorbar": {
              "outlinewidth": 0,
              "ticks": ""
             }
            },
            "marker": {
             "colorbar": {
              "outlinewidth": 0,
              "ticks": ""
             }
            },
            "type": "scatter3d"
           }
          ],
          "scattercarpet": [
           {
            "marker": {
             "colorbar": {
              "outlinewidth": 0,
              "ticks": ""
             }
            },
            "type": "scattercarpet"
           }
          ],
          "scattergeo": [
           {
            "marker": {
             "colorbar": {
              "outlinewidth": 0,
              "ticks": ""
             }
            },
            "type": "scattergeo"
           }
          ],
          "scattergl": [
           {
            "marker": {
             "colorbar": {
              "outlinewidth": 0,
              "ticks": ""
             }
            },
            "type": "scattergl"
           }
          ],
          "scattermap": [
           {
            "marker": {
             "colorbar": {
              "outlinewidth": 0,
              "ticks": ""
             }
            },
            "type": "scattermap"
           }
          ],
          "scattermapbox": [
           {
            "marker": {
             "colorbar": {
              "outlinewidth": 0,
              "ticks": ""
             }
            },
            "type": "scattermapbox"
           }
          ],
          "scatterpolar": [
           {
            "marker": {
             "colorbar": {
              "outlinewidth": 0,
              "ticks": ""
             }
            },
            "type": "scatterpolar"
           }
          ],
          "scatterpolargl": [
           {
            "marker": {
             "colorbar": {
              "outlinewidth": 0,
              "ticks": ""
             }
            },
            "type": "scatterpolargl"
           }
          ],
          "scatterternary": [
           {
            "marker": {
             "colorbar": {
              "outlinewidth": 0,
              "ticks": ""
             }
            },
            "type": "scatterternary"
           }
          ],
          "surface": [
           {
            "colorbar": {
             "outlinewidth": 0,
             "ticks": ""
            },
            "colorscale": [
             [
              0,
              "#0d0887"
             ],
             [
              0.1111111111111111,
              "#46039f"
             ],
             [
              0.2222222222222222,
              "#7201a8"
             ],
             [
              0.3333333333333333,
              "#9c179e"
             ],
             [
              0.4444444444444444,
              "#bd3786"
             ],
             [
              0.5555555555555556,
              "#d8576b"
             ],
             [
              0.6666666666666666,
              "#ed7953"
             ],
             [
              0.7777777777777778,
              "#fb9f3a"
             ],
             [
              0.8888888888888888,
              "#fdca26"
             ],
             [
              1,
              "#f0f921"
             ]
            ],
            "type": "surface"
           }
          ],
          "table": [
           {
            "cells": {
             "fill": {
              "color": "#EBF0F8"
             },
             "line": {
              "color": "white"
             }
            },
            "header": {
             "fill": {
              "color": "#C8D4E3"
             },
             "line": {
              "color": "white"
             }
            },
            "type": "table"
           }
          ]
         },
         "layout": {
          "annotationdefaults": {
           "arrowcolor": "#2a3f5f",
           "arrowhead": 0,
           "arrowwidth": 1
          },
          "autotypenumbers": "strict",
          "coloraxis": {
           "colorbar": {
            "outlinewidth": 0,
            "ticks": ""
           }
          },
          "colorscale": {
           "diverging": [
            [
             0,
             "#8e0152"
            ],
            [
             0.1,
             "#c51b7d"
            ],
            [
             0.2,
             "#de77ae"
            ],
            [
             0.3,
             "#f1b6da"
            ],
            [
             0.4,
             "#fde0ef"
            ],
            [
             0.5,
             "#f7f7f7"
            ],
            [
             0.6,
             "#e6f5d0"
            ],
            [
             0.7,
             "#b8e186"
            ],
            [
             0.8,
             "#7fbc41"
            ],
            [
             0.9,
             "#4d9221"
            ],
            [
             1,
             "#276419"
            ]
           ],
           "sequential": [
            [
             0,
             "#0d0887"
            ],
            [
             0.1111111111111111,
             "#46039f"
            ],
            [
             0.2222222222222222,
             "#7201a8"
            ],
            [
             0.3333333333333333,
             "#9c179e"
            ],
            [
             0.4444444444444444,
             "#bd3786"
            ],
            [
             0.5555555555555556,
             "#d8576b"
            ],
            [
             0.6666666666666666,
             "#ed7953"
            ],
            [
             0.7777777777777778,
             "#fb9f3a"
            ],
            [
             0.8888888888888888,
             "#fdca26"
            ],
            [
             1,
             "#f0f921"
            ]
           ],
           "sequentialminus": [
            [
             0,
             "#0d0887"
            ],
            [
             0.1111111111111111,
             "#46039f"
            ],
            [
             0.2222222222222222,
             "#7201a8"
            ],
            [
             0.3333333333333333,
             "#9c179e"
            ],
            [
             0.4444444444444444,
             "#bd3786"
            ],
            [
             0.5555555555555556,
             "#d8576b"
            ],
            [
             0.6666666666666666,
             "#ed7953"
            ],
            [
             0.7777777777777778,
             "#fb9f3a"
            ],
            [
             0.8888888888888888,
             "#fdca26"
            ],
            [
             1,
             "#f0f921"
            ]
           ]
          },
          "colorway": [
           "#636efa",
           "#EF553B",
           "#00cc96",
           "#ab63fa",
           "#FFA15A",
           "#19d3f3",
           "#FF6692",
           "#B6E880",
           "#FF97FF",
           "#FECB52"
          ],
          "font": {
           "color": "#2a3f5f"
          },
          "geo": {
           "bgcolor": "white",
           "lakecolor": "white",
           "landcolor": "#E5ECF6",
           "showlakes": true,
           "showland": true,
           "subunitcolor": "white"
          },
          "hoverlabel": {
           "align": "left"
          },
          "hovermode": "closest",
          "mapbox": {
           "style": "light"
          },
          "paper_bgcolor": "white",
          "plot_bgcolor": "#E5ECF6",
          "polar": {
           "angularaxis": {
            "gridcolor": "white",
            "linecolor": "white",
            "ticks": ""
           },
           "bgcolor": "#E5ECF6",
           "radialaxis": {
            "gridcolor": "white",
            "linecolor": "white",
            "ticks": ""
           }
          },
          "scene": {
           "xaxis": {
            "backgroundcolor": "#E5ECF6",
            "gridcolor": "white",
            "gridwidth": 2,
            "linecolor": "white",
            "showbackground": true,
            "ticks": "",
            "zerolinecolor": "white"
           },
           "yaxis": {
            "backgroundcolor": "#E5ECF6",
            "gridcolor": "white",
            "gridwidth": 2,
            "linecolor": "white",
            "showbackground": true,
            "ticks": "",
            "zerolinecolor": "white"
           },
           "zaxis": {
            "backgroundcolor": "#E5ECF6",
            "gridcolor": "white",
            "gridwidth": 2,
            "linecolor": "white",
            "showbackground": true,
            "ticks": "",
            "zerolinecolor": "white"
           }
          },
          "shapedefaults": {
           "line": {
            "color": "#2a3f5f"
           }
          },
          "ternary": {
           "aaxis": {
            "gridcolor": "white",
            "linecolor": "white",
            "ticks": ""
           },
           "baxis": {
            "gridcolor": "white",
            "linecolor": "white",
            "ticks": ""
           },
           "bgcolor": "#E5ECF6",
           "caxis": {
            "gridcolor": "white",
            "linecolor": "white",
            "ticks": ""
           }
          },
          "title": {
           "x": 0.05
          },
          "xaxis": {
           "automargin": true,
           "gridcolor": "white",
           "linecolor": "white",
           "ticks": "",
           "title": {
            "standoff": 15
           },
           "zerolinecolor": "white",
           "zerolinewidth": 2
          },
          "yaxis": {
           "automargin": true,
           "gridcolor": "white",
           "linecolor": "white",
           "ticks": "",
           "title": {
            "standoff": 15
           },
           "zerolinecolor": "white",
           "zerolinewidth": 2
          }
         }
        },
        "title": {
         "text": "Alpha vs. Sortino Ratio (Risk-Adjusted Performance)"
        },
        "xaxis": {
         "anchor": "y",
         "domain": [
          0,
          1
         ],
         "title": {
          "text": "Alpha"
         }
        },
        "yaxis": {
         "anchor": "x",
         "domain": [
          0,
          1
         ],
         "title": {
          "text": "Sortino Ratio"
         }
        }
       }
      },
      "image/png": "[encoded data removed]"
     },
     "metadata": {},
     "output_type": "display_data"
    }
   ],
   "source": [
    "fig_scatter = px.scatter(\n",
    "    reg_summary,\n",
    "    x=\"Alpha\",\n",
    "    y=\"Sortino_Ratio\",\n",
    "    text=\"Factor\",\n",
    "    color=\"Sortino_Ratio\",\n",
    "    color_continuous_scale=\"RdBu_r\",\n",
    "    title=\"Alpha vs. Sortino Ratio (Risk-Adjusted Performance)\",\n",
    "    hover_data=[\"Beta\", \"R_squared\", \"Semi_Deviation\"]\n",
    ")\n",
    "fig_scatter.update_traces(textposition='top center')\n",
    "fig_scatter.update_layout(xaxis_title=\"Alpha\", yaxis_title=\"Sortino Ratio\")\n",
    "fig_scatter.show()\n"
   ]
  },
  {
   "cell_type": "code",
   "execution_count": null,
   "id": "c829d20b-af02-45f6-9777-0687f052df2c",
   "metadata": {},
   "outputs": [],
   "source": []
  }
 ],
 "metadata": {
  "kernelspec": {
   "display_name": "Python 3 (ipykernel)",
   "language": "python",
   "name": "python3"
  },
  "language_info": {
   "codemirror_mode": {
    "name": "ipython",
    "version": 3
   },
   "file_extension": ".py",
   "mimetype": "text/x-python",
   "name": "python",
   "nbconvert_exporter": "python",
   "pygments_lexer": "ipython3",
   "version": "3.13.0"
  }
 },
 "nbformat": 4,
 "nbformat_minor": 5
}
